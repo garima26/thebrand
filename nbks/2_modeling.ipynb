{
 "cells": [
  {
   "cell_type": "code",
   "execution_count": 1,
   "metadata": {},
   "outputs": [],
   "source": [
    "%load_ext lab_black\n",
    "%load_ext autoreload\n",
    "%autoreload 2"
   ]
  },
  {
   "cell_type": "code",
   "execution_count": 2,
   "metadata": {},
   "outputs": [
    {
     "name": "stdout",
     "output_type": "stream",
     "text": [
      "C:\\Users\\igari\\OneDrive\\Documents\\thebrand\n"
     ]
    }
   ],
   "source": [
    "%cd ~\\OneDrive\\Documents\\thebrand"
   ]
  },
  {
   "cell_type": "markdown",
   "metadata": {},
   "source": [
    "# Project objective: Demand forecast (unit sales) for potential new products for \"The Brand\""
   ]
  },
  {
   "cell_type": "code",
   "execution_count": 3,
   "metadata": {},
   "outputs": [],
   "source": [
    "import pandas as pd\n",
    "import numpy as np\n",
    "from pathlib import Path\n",
    "import pickle\n",
    "import matplotlib.pyplot as plt\n",
    "\n",
    "%matplotlib inline\n",
    "import seaborn as sns\n",
    "\n",
    "from sklearn.ensemble import RandomForestRegressor, GradientBoostingRegressor\n",
    "\n",
    "from sklearn.metrics import mean_absolute_error, mean_absolute_percentage_error\n",
    "\n",
    "from src.utils.constants import TARGET, MODEL_FEATURES\n",
    "from src.utils.funcs import get_nrf_color_group\n",
    "\n",
    "import warnings\n",
    "\n",
    "warnings.filterwarnings(\"ignore\")"
   ]
  },
  {
   "cell_type": "code",
   "execution_count": 4,
   "metadata": {},
   "outputs": [],
   "source": [
    "pd.options.display.float_format = \"{:.2f}\".format\n",
    "pd.set_option(\"display.max_rows\", 99)\n",
    "pd.set_option(\"display.max_colwidth\", 199)"
   ]
  },
  {
   "cell_type": "code",
   "execution_count": 5,
   "metadata": {},
   "outputs": [],
   "source": [
    "base_dir = Path(\"/Users/igari/OneDrive/Documents/thebrand\")\n",
    "data = base_dir / \"data\""
   ]
  },
  {
   "cell_type": "markdown",
   "metadata": {},
   "source": [
    "# A note on choice of models"
   ]
  },
  {
   "cell_type": "markdown",
   "metadata": {},
   "source": [
    "Model requirements:\n",
    "   - Should be able to detect interactions without coding for interaction features\n",
    "   - Should be able to handle new values of categorical features\n",
    "   - Should be able to handle feature selection\n",
    "   - Should generalise well and be less prone to overfitting"
   ]
  },
  {
   "cell_type": "markdown",
   "metadata": {},
   "source": [
    "Decision trees are generally better at uncovering feature interactions without explicitly coding for them. Therefore, in interest of time, we will skip testing linear regression models but ideally, this should be done."
   ]
  },
  {
   "cell_type": "markdown",
   "metadata": {},
   "source": [
    "# Read in training data"
   ]
  },
  {
   "cell_type": "code",
   "execution_count": 6,
   "metadata": {},
   "outputs": [
    {
     "data": {
      "text/plain": [
       "['MATERIAL_CONTENT_CODE',\n",
       " 'PRODUCT_TYPES',\n",
       " 'BUSINESS_SEGMENTS',\n",
       " 'Sustainablity',\n",
       " 'MARKETING_CATEGORY',\n",
       " 'nrf_color_group']"
      ]
     },
     "execution_count": 6,
     "metadata": {},
     "output_type": "execute_result"
    }
   ],
   "source": [
    "MODEL_FEATURES"
   ]
  },
  {
   "cell_type": "code",
   "execution_count": 7,
   "metadata": {},
   "outputs": [
    {
     "data": {
      "text/html": [
       "<div>\n",
       "<style scoped>\n",
       "    .dataframe tbody tr th:only-of-type {\n",
       "        vertical-align: middle;\n",
       "    }\n",
       "\n",
       "    .dataframe tbody tr th {\n",
       "        vertical-align: top;\n",
       "    }\n",
       "\n",
       "    .dataframe thead th {\n",
       "        text-align: right;\n",
       "    }\n",
       "</style>\n",
       "<table border=\"1\" class=\"dataframe\">\n",
       "  <thead>\n",
       "    <tr style=\"text-align: right;\">\n",
       "      <th></th>\n",
       "      <th>MATERIAL_CONTENT_CODE</th>\n",
       "      <th>PRODUCT_TYPES</th>\n",
       "      <th>BUSINESS_SEGMENTS</th>\n",
       "      <th>Sustainablity</th>\n",
       "      <th>MARKETING_CATEGORY</th>\n",
       "      <th>nrf_color_group</th>\n",
       "    </tr>\n",
       "  </thead>\n",
       "  <tbody>\n",
       "    <tr>\n",
       "      <th>0</th>\n",
       "      <td>74.57</td>\n",
       "      <td>77.91</td>\n",
       "      <td>78.29</td>\n",
       "      <td>1</td>\n",
       "      <td>76.11</td>\n",
       "      <td>1</td>\n",
       "    </tr>\n",
       "    <tr>\n",
       "      <th>1</th>\n",
       "      <td>74.46</td>\n",
       "      <td>71.53</td>\n",
       "      <td>74.19</td>\n",
       "      <td>1</td>\n",
       "      <td>75.26</td>\n",
       "      <td>1</td>\n",
       "    </tr>\n",
       "    <tr>\n",
       "      <th>2</th>\n",
       "      <td>74.46</td>\n",
       "      <td>74.32</td>\n",
       "      <td>73.74</td>\n",
       "      <td>2</td>\n",
       "      <td>78.03</td>\n",
       "      <td>2</td>\n",
       "    </tr>\n",
       "    <tr>\n",
       "      <th>3</th>\n",
       "      <td>74.81</td>\n",
       "      <td>75.95</td>\n",
       "      <td>75.56</td>\n",
       "      <td>3</td>\n",
       "      <td>103.96</td>\n",
       "      <td>3</td>\n",
       "    </tr>\n",
       "    <tr>\n",
       "      <th>4</th>\n",
       "      <td>58.49</td>\n",
       "      <td>61.56</td>\n",
       "      <td>74.13</td>\n",
       "      <td>4</td>\n",
       "      <td>57.53</td>\n",
       "      <td>1</td>\n",
       "    </tr>\n",
       "  </tbody>\n",
       "</table>\n",
       "</div>"
      ],
      "text/plain": [
       "   MATERIAL_CONTENT_CODE  PRODUCT_TYPES  BUSINESS_SEGMENTS  Sustainablity  \\\n",
       "0                  74.57          77.91              78.29              1   \n",
       "1                  74.46          71.53              74.19              1   \n",
       "2                  74.46          74.32              73.74              2   \n",
       "3                  74.81          75.95              75.56              3   \n",
       "4                  58.49          61.56              74.13              4   \n",
       "\n",
       "   MARKETING_CATEGORY  nrf_color_group  \n",
       "0               76.11                1  \n",
       "1               75.26                1  \n",
       "2               78.03                2  \n",
       "3              103.96                3  \n",
       "4               57.53                1  "
      ]
     },
     "execution_count": 7,
     "metadata": {},
     "output_type": "execute_result"
    }
   ],
   "source": [
    "train_path = data / \"01_raw\" / \"train_raw.csv\"\n",
    "train = pd.read_parquet(train_path)\n",
    "\n",
    "y_train = train.loc[:, [TARGET]]\n",
    "X_train = train.loc[:, MODEL_FEATURES]\n",
    "\n",
    "X_train.head()"
   ]
  },
  {
   "cell_type": "markdown",
   "metadata": {},
   "source": [
    "# Test data preprocessing"
   ]
  },
  {
   "cell_type": "code",
   "execution_count": 8,
   "metadata": {},
   "outputs": [
    {
     "data": {
      "text/plain": [
       "(12124, 7)"
      ]
     },
     "execution_count": 8,
     "metadata": {},
     "output_type": "execute_result"
    }
   ],
   "source": [
    "test_path = data / \"01_raw\" / \"test_raw.csv\"\n",
    "test = pd.read_parquet(test_path)\n",
    "test.shape"
   ]
  },
  {
   "cell_type": "code",
   "execution_count": 9,
   "metadata": {},
   "outputs": [
    {
     "data": {
      "text/html": [
       "<div>\n",
       "<style scoped>\n",
       "    .dataframe tbody tr th:only-of-type {\n",
       "        vertical-align: middle;\n",
       "    }\n",
       "\n",
       "    .dataframe tbody tr th {\n",
       "        vertical-align: top;\n",
       "    }\n",
       "\n",
       "    .dataframe thead th {\n",
       "        text-align: right;\n",
       "    }\n",
       "</style>\n",
       "<table border=\"1\" class=\"dataframe\">\n",
       "  <thead>\n",
       "    <tr style=\"text-align: right;\">\n",
       "      <th></th>\n",
       "      <th>MATERIAL_CONTENT_CODE</th>\n",
       "      <th>PRODUCT_TYPES</th>\n",
       "      <th>BUSINESS_SEGMENTS</th>\n",
       "      <th>NRF_COLOR_CODE</th>\n",
       "      <th>Sustainablity</th>\n",
       "      <th>MARKETING_CATEGORY</th>\n",
       "      <th>Units_sold</th>\n",
       "      <th>nrf_color_group</th>\n",
       "    </tr>\n",
       "  </thead>\n",
       "  <tbody>\n",
       "    <tr>\n",
       "      <th>233</th>\n",
       "      <td>74.16</td>\n",
       "      <td>74.46</td>\n",
       "      <td>73.80</td>\n",
       "      <td>100.00</td>\n",
       "      <td>1</td>\n",
       "      <td>71.59</td>\n",
       "      <td>72</td>\n",
       "      <td>2</td>\n",
       "    </tr>\n",
       "    <tr>\n",
       "      <th>234</th>\n",
       "      <td>74.90</td>\n",
       "      <td>74.46</td>\n",
       "      <td>74.13</td>\n",
       "      <td>834.00</td>\n",
       "      <td>1</td>\n",
       "      <td>76.55</td>\n",
       "      <td>132</td>\n",
       "      <td>10</td>\n",
       "    </tr>\n",
       "    <tr>\n",
       "      <th>235</th>\n",
       "      <td>76.89</td>\n",
       "      <td>74.46</td>\n",
       "      <td>73.46</td>\n",
       "      <td>100.00</td>\n",
       "      <td>3</td>\n",
       "      <td>74.76</td>\n",
       "      <td>72</td>\n",
       "      <td>2</td>\n",
       "    </tr>\n",
       "    <tr>\n",
       "      <th>236</th>\n",
       "      <td>74.24</td>\n",
       "      <td>74.59</td>\n",
       "      <td>73.52</td>\n",
       "      <td>610.00</td>\n",
       "      <td>9</td>\n",
       "      <td>69.97</td>\n",
       "      <td>96</td>\n",
       "      <td>4</td>\n",
       "    </tr>\n",
       "    <tr>\n",
       "      <th>237</th>\n",
       "      <td>74.16</td>\n",
       "      <td>74.46</td>\n",
       "      <td>76.90</td>\n",
       "      <td>80.00</td>\n",
       "      <td>5</td>\n",
       "      <td>72.08</td>\n",
       "      <td>36</td>\n",
       "      <td>6</td>\n",
       "    </tr>\n",
       "  </tbody>\n",
       "</table>\n",
       "</div>"
      ],
      "text/plain": [
       "     MATERIAL_CONTENT_CODE  PRODUCT_TYPES  BUSINESS_SEGMENTS  NRF_COLOR_CODE  \\\n",
       "233                  74.16          74.46              73.80          100.00   \n",
       "234                  74.90          74.46              74.13          834.00   \n",
       "235                  76.89          74.46              73.46          100.00   \n",
       "236                  74.24          74.59              73.52          610.00   \n",
       "237                  74.16          74.46              76.90           80.00   \n",
       "\n",
       "     Sustainablity  MARKETING_CATEGORY  Units_sold  nrf_color_group  \n",
       "233              1               71.59          72                2  \n",
       "234              1               76.55         132               10  \n",
       "235              3               74.76          72                2  \n",
       "236              9               69.97          96                4  \n",
       "237              5               72.08          36                6  "
      ]
     },
     "execution_count": 9,
     "metadata": {},
     "output_type": "execute_result"
    }
   ],
   "source": [
    "# Outlier removal at 216.0\n",
    "test = test[test.Units_sold < 216]\n",
    "\n",
    "# Feature nrf color group\n",
    "test[\"nrf_color_group\"] = test.apply(get_nrf_color_group, axis=1)\n",
    "\n",
    "# Categorical encoding\n",
    "oe_encoder_path = base_dir / \"artifacts\" / \"oe_encoder.pkl\"\n",
    "file = open(oe_encoder_path, \"rb\")\n",
    "oe_encoder = pickle.load(file)\n",
    "test = oe_encoder.transform(test)\n",
    "\n",
    "encoder_path = base_dir / \"artifacts\" / \"encoder.pkl\"\n",
    "file2 = open(encoder_path, \"rb\")\n",
    "encoder = pickle.load(file2)\n",
    "test = encoder.transform(test)\n",
    "test.head()"
   ]
  },
  {
   "cell_type": "code",
   "execution_count": 10,
   "metadata": {},
   "outputs": [],
   "source": [
    "y_test = test.loc[:, [TARGET]]\n",
    "X_test = test.loc[:, MODEL_FEATURES]\n",
    "\n",
    "X_train.to_parquet(data / \"02_intermediate/X_train.csv\", index=None)\n",
    "X_test.to_parquet(data / \"02_intermediate/X_valid.csv\", index=None)\n",
    "y_train.to_parquet(data / \"02_intermediate/y_train.csv\", index=None)\n",
    "y_test.to_parquet(data / \"02_intermediate/y_valid.csv\", index=None)"
   ]
  },
  {
   "cell_type": "markdown",
   "metadata": {},
   "source": [
    "We will use evaluation metric: MAE"
   ]
  },
  {
   "cell_type": "markdown",
   "metadata": {},
   "source": [
    "# Comparing various algorithms"
   ]
  },
  {
   "cell_type": "markdown",
   "metadata": {},
   "source": [
    "Let us see whether bagging does better or boosting in this problem"
   ]
  },
  {
   "cell_type": "markdown",
   "metadata": {},
   "source": [
    "## Random Forest"
   ]
  },
  {
   "cell_type": "code",
   "execution_count": 11,
   "metadata": {},
   "outputs": [
    {
     "name": "stderr",
     "output_type": "stream",
     "text": [
      "[Parallel(n_jobs=-1)]: Using backend ThreadingBackend with 12 concurrent workers.\n",
      "[Parallel(n_jobs=-1)]: Done  26 tasks      | elapsed:   58.2s\n"
     ]
    },
    {
     "name": "stdout",
     "output_type": "stream",
     "text": [
      "Training MAE: 30.669087704748083\n",
      "Test MAE: 35.263752177158494\n",
      "Training MAPE: 0.8057302136572825\n",
      "Test MAPE: 0.9262040593563579\n"
     ]
    },
    {
     "name": "stderr",
     "output_type": "stream",
     "text": [
      "[Parallel(n_jobs=-1)]: Done 100 out of 100 | elapsed:  3.1min finished\n",
      "[Parallel(n_jobs=12)]: Using backend ThreadingBackend with 12 concurrent workers.\n",
      "[Parallel(n_jobs=12)]: Done  26 tasks      | elapsed:    0.0s\n",
      "[Parallel(n_jobs=12)]: Done 100 out of 100 | elapsed:    0.0s finished\n",
      "[Parallel(n_jobs=12)]: Using backend ThreadingBackend with 12 concurrent workers.\n",
      "[Parallel(n_jobs=12)]: Done  26 tasks      | elapsed:    0.0s\n",
      "[Parallel(n_jobs=12)]: Done 100 out of 100 | elapsed:    0.0s finished\n"
     ]
    },
    {
     "data": {
      "text/plain": [
       "<AxesSubplot:>"
      ]
     },
     "execution_count": 11,
     "metadata": {},
     "output_type": "execute_result"
    },
    {
     "data": {
      "image/png": "[encoded data removed]",
      "text/plain": [
       "<Figure size 432x288 with 1 Axes>"
      ]
     },
     "metadata": {
      "needs_background": "light"
     },
     "output_type": "display_data"
    }
   ],
   "source": [
    "#Only using a few params here to test the model\n",
    "est_rf = RandomForestRegressor(\n",
    "    criterion=\"absolute_error\", max_depth=5, verbose=1, n_jobs=-1\n",
    ")\n",
    "\n",
    "est_rf.fit(\n",
    "    X_train.loc[:, MODEL_FEATURES],\n",
    "    np.array(y_train).reshape(\n",
    "        -1,\n",
    "    ),\n",
    ")\n",
    "\n",
    "rf_pred_train = est_rf.predict(X_train[MODEL_FEATURES])\n",
    "rf_pred_test = est_rf.predict(X_test[MODEL_FEATURES])\n",
    "\n",
    "print(f\"Training MAE: {mean_absolute_error(y_train, rf_pred_train)}\")\n",
    "print(f\"Test MAE: {mean_absolute_error(y_test, rf_pred_test)}\")\n",
    "\n",
    "print(f\"Training MAPE: {mean_absolute_percentage_error(y_train, rf_pred_train)}\")\n",
    "print(f\"Test MAPE: {mean_absolute_percentage_error(y_test, rf_pred_test)}\")\n",
    "\n",
    "sns.barplot(x=est_rf.feature_importances_, y=MODEL_FEATURES)"
   ]
  },
  {
   "cell_type": "markdown",
   "metadata": {},
   "source": [
    "## Gradient Boosting Regressor"
   ]
  },
  {
   "cell_type": "code",
   "execution_count": 12,
   "metadata": {},
   "outputs": [
    {
     "name": "stdout",
     "output_type": "stream",
     "text": [
      "      Iter       Train Loss   Remaining Time \n",
      "         1          32.9282            3.69s\n",
      "         2          32.6248            4.12s\n",
      "         3          32.3509            4.70s\n",
      "         4          32.0948            4.42s\n",
      "         5          31.8823            4.59s\n",
      "         6          31.7020            4.44s\n",
      "         7          31.5489            4.39s\n",
      "         8          31.4240            4.32s\n",
      "         9          31.3150            4.27s\n",
      "        10          31.2210            4.31s\n",
      "        20          30.7285            3.77s\n",
      "        30          30.5646            3.28s\n",
      "        40          30.4925            2.80s\n",
      "        50          30.4418            2.33s\n",
      "        60          30.4226            1.86s\n",
      "        70          30.4051            1.40s\n",
      "        80          30.3964            0.94s\n",
      "        90          30.3905            0.47s\n",
      "       100          30.3853            0.00s\n",
      "Training MAE: 30.38534286033892\n",
      "Test MAE: 34.97746762922169\n",
      "Training MAPE: 0.8055968066643733\n",
      "Test MAPE: 0.9257931347590193\n"
     ]
    },
    {
     "data": {
      "text/plain": [
       "<AxesSubplot:>"
      ]
     },
     "execution_count": 12,
     "metadata": {},
     "output_type": "execute_result"
    },
    {
     "data": {
      "image/png": "[encoded data removed]",
      "text/plain": [
       "<Figure size 432x288 with 1 Axes>"
      ]
     },
     "metadata": {
      "needs_background": "light"
     },
     "output_type": "display_data"
    }
   ],
   "source": [
    "#Only using a few params here to test the model\n",
    "est_gb = GradientBoostingRegressor(max_depth=5, loss=\"absolute_error\", verbose=1)\n",
    "\n",
    "est_gb.fit(\n",
    "    X_train.loc[:, MODEL_FEATURES],\n",
    "    np.array(y_train).reshape(\n",
    "        -1,\n",
    "    ),\n",
    ")\n",
    "\n",
    "gb_pred_train = est_gb.predict(X_train[MODEL_FEATURES])\n",
    "gb_pred_test = est_gb.predict(X_test[MODEL_FEATURES])\n",
    "\n",
    "print(f\"Training MAE: {mean_absolute_error(y_train, gb_pred_train)}\")\n",
    "print(f\"Test MAE: {mean_absolute_error(y_test, gb_pred_test)}\")\n",
    "\n",
    "print(f\"Training MAPE: {mean_absolute_percentage_error(y_train, gb_pred_train)}\")\n",
    "print(f\"Test MAPE: {mean_absolute_percentage_error(y_test, gb_pred_test)}\")\n",
    "\n",
    "sns.barplot(x=est_gb.feature_importances_, y=MODEL_FEATURES)"
   ]
  },
  {
   "cell_type": "markdown",
   "metadata": {},
   "source": [
    "Both are giving comparable results so let us stick to boosting for now as it ran faster than bagging."
   ]
  },
  {
   "cell_type": "markdown",
   "metadata": {},
   "source": [
    "There is a huge scope to fix the categorical encoder here as all the weight is going to `MARKETING_CATEGORY` here which is not ideal."
   ]
  },
  {
   "cell_type": "markdown",
   "metadata": {},
   "source": [
    "### How do training vs test MAE change with max depth?"
   ]
  },
  {
   "cell_type": "code",
   "execution_count": 13,
   "metadata": {},
   "outputs": [],
   "source": [
    "training_mae = []\n",
    "test_mae = []\n",
    "for d in range(2, 20):\n",
    "    est_gb = GradientBoostingRegressor(max_depth=d, loss=\"absolute_error\")\n",
    "\n",
    "    est_gb.fit(\n",
    "        X_train.loc[:, MODEL_FEATURES],\n",
    "        np.array(y_train).reshape(\n",
    "            -1,\n",
    "        ),\n",
    "    )\n",
    "\n",
    "    gb_pred_train = est_gb.predict(X_train[MODEL_FEATURES])\n",
    "    gb_pred_test = est_gb.predict(X_test[MODEL_FEATURES])\n",
    "\n",
    "    training_mae.append(mean_absolute_error(y_train, gb_pred_train))\n",
    "    test_mae.append(mean_absolute_error(y_test, gb_pred_test))"
   ]
  },
  {
   "cell_type": "code",
   "execution_count": 14,
   "metadata": {},
   "outputs": [
    {
     "data": {
      "image/png": "[encoded data removed]",
      "text/plain": [
       "<Figure size 432x288 with 1 Axes>"
      ]
     },
     "metadata": {
      "needs_background": "light"
     },
     "output_type": "display_data"
    }
   ],
   "source": [
    "plt.title(\"Training vs Test MAE by Max Depth\", fontdict={\"fontsize\": 14})\n",
    "plt.xlabel(\"Max Depth\", fontsize=10)\n",
    "plt.ylabel(\"MAE\", fontsize=10)\n",
    "\n",
    "sns.lineplot(range(2, 20), training_mae, label=\"Training MAE\")\n",
    "sns.lineplot(range(2, 20), test_mae, label=\"Test MAE\")\n",
    "plt.legend()\n",
    "plt.show()"
   ]
  },
  {
   "cell_type": "markdown",
   "metadata": {},
   "source": [
    "The model requires further tuning and more predictors clearly. The MAPE is really bad."
   ]
  },
  {
   "cell_type": "markdown",
   "metadata": {},
   "source": [
    "# Example data point prediction"
   ]
  },
  {
   "cell_type": "code",
   "execution_count": 15,
   "metadata": {},
   "outputs": [],
   "source": [
    "# New data point\n",
    "new = pd.DataFrame(\n",
    "    {\n",
    "        \"MATERIAL_CONTENT_CODE\": [\"AT2F\"],\n",
    "        \"PRODUCT_TYPES\": [1],\n",
    "        \"BUSINESS_SEGMENTS\": [30308],\n",
    "        \"NRF_COLOR_CODE\": [734],\n",
    "        \"Sustainablity\": [\"Low carbon footprint\"],\n",
    "        \"MARKETING_CATEGORY\": [\"P219\"],\n",
    "        \"Units_sold\": [np.nan],\n",
    "    }\n",
    ")"
   ]
  },
  {
   "cell_type": "code",
   "execution_count": 16,
   "metadata": {},
   "outputs": [
    {
     "data": {
      "text/plain": [
       "array([83.34933931])"
      ]
     },
     "execution_count": 16,
     "metadata": {},
     "output_type": "execute_result"
    }
   ],
   "source": [
    "# Feature nrf color group\n",
    "new[\"nrf_color_group\"] = new.apply(get_nrf_color_group, axis=1)\n",
    "\n",
    "# Categorical encoding\n",
    "new = oe_encoder.transform(new)\n",
    "new = encoder.transform(new)\n",
    "\n",
    "est_gb.predict(new[MODEL_FEATURES])"
   ]
  },
  {
   "cell_type": "code",
   "execution_count": 17,
   "metadata": {},
   "outputs": [],
   "source": [
    "# Serialize the model\n",
    "gb_model_path = base_dir / \"artifacts\" / \"gb_model.pkl\"\n",
    "file = open(gb_model_path, \"wb\")\n",
    "pickle.dump(est_gb, file)"
   ]
  }
 ],
 "metadata": {
  "kernelspec": {
   "display_name": "Python 3 (ipykernel)",
   "language": "python",
   "name": "python3"
  },
  "language_info": {
   "codemirror_mode": {
    "name": "ipython",
    "version": 3
   },
   "file_extension": ".py",
   "mimetype": "text/x-python",
   "name": "python",
   "nbconvert_exporter": "python",
   "pygments_lexer": "ipython3",
   "version": "3.8.12"
  }
 },
 "nbformat": 4,
 "nbformat_minor": 4
}
