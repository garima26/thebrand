{
 "cells": [
  {
   "cell_type": "code",
   "execution_count": 1,
   "metadata": {},
   "outputs": [],
   "source": [
    "%load_ext lab_black"
   ]
  },
  {
   "cell_type": "code",
   "execution_count": 2,
   "metadata": {},
   "outputs": [
    {
     "name": "stdout",
     "output_type": "stream",
     "text": [
      "C:\\Users\\igari\\OneDrive\\Documents\\thebrand\n"
     ]
    }
   ],
   "source": [
    "%cd ~\\OneDrive\\Documents\\thebrand"
   ]
  },
  {
   "cell_type": "markdown",
   "metadata": {},
   "source": [
    "# Project objective: Demand forecast (unit sales) for potential new products in the first quarter of launch"
   ]
  },
  {
   "cell_type": "code",
   "execution_count": 3,
   "metadata": {},
   "outputs": [],
   "source": [
    "import pandas as pd\n",
    "import numpy as np\n",
    "from pathlib import Path\n",
    "import matplotlib.pyplot as plt\n",
    "\n",
    "%matplotlib inline\n",
    "import seaborn as sns\n",
    "\n",
    "from src.utils.constants import TARGET\n",
    "\n",
    "# from src.utils.funcs import get_area_borough"
   ]
  },
  {
   "cell_type": "code",
   "execution_count": 4,
   "metadata": {},
   "outputs": [],
   "source": [
    "pd.options.display.float_format = \"{:.2f}\".format\n",
    "pd.set_option(\"display.max_rows\", 99)\n",
    "pd.set_option(\"display.max_colwidth\", 199)"
   ]
  },
  {
   "cell_type": "code",
   "execution_count": 5,
   "metadata": {},
   "outputs": [],
   "source": [
    "base_dir = Path(\"/Users/igari/OneDrive/Documents/thebrand\")\n",
    "data = base_dir / \"data\""
   ]
  },
  {
   "cell_type": "markdown",
   "metadata": {},
   "source": [
    "# Reading in training data"
   ]
  },
  {
   "cell_type": "code",
   "execution_count": 6,
   "metadata": {},
   "outputs": [
    {
     "data": {
      "text/html": [
       "<div>\n",
       "<style scoped>\n",
       "    .dataframe tbody tr th:only-of-type {\n",
       "        vertical-align: middle;\n",
       "    }\n",
       "\n",
       "    .dataframe tbody tr th {\n",
       "        vertical-align: top;\n",
       "    }\n",
       "\n",
       "    .dataframe thead th {\n",
       "        text-align: right;\n",
       "    }\n",
       "</style>\n",
       "<table border=\"1\" class=\"dataframe\">\n",
       "  <thead>\n",
       "    <tr style=\"text-align: right;\">\n",
       "      <th></th>\n",
       "      <th>MATERIAL_CONTENT_CODE</th>\n",
       "      <th>PRODUCT_TYPES</th>\n",
       "      <th>BUSINESS_SEGMENTS</th>\n",
       "      <th>NRF_COLOR_CODE</th>\n",
       "      <th>Sustainablity</th>\n",
       "      <th>MARKETING_CATEGORY</th>\n",
       "      <th>Units_sold</th>\n",
       "    </tr>\n",
       "  </thead>\n",
       "  <tbody>\n",
       "    <tr>\n",
       "      <th>6</th>\n",
       "      <td>AT2E</td>\n",
       "      <td>1.00</td>\n",
       "      <td>3030975.00</td>\n",
       "      <td>1.00</td>\n",
       "      <td>Organic materials</td>\n",
       "      <td>2115</td>\n",
       "      <td>36</td>\n",
       "    </tr>\n",
       "    <tr>\n",
       "      <th>7</th>\n",
       "      <td>DO0S</td>\n",
       "      <td>39.00</td>\n",
       "      <td>303034.00</td>\n",
       "      <td>610.00</td>\n",
       "      <td>Recycled</td>\n",
       "      <td>211</td>\n",
       "      <td>120</td>\n",
       "    </tr>\n",
       "    <tr>\n",
       "      <th>8</th>\n",
       "      <td>TRK4</td>\n",
       "      <td>13.00</td>\n",
       "      <td>975342.00</td>\n",
       "      <td>610.00</td>\n",
       "      <td>PFC free</td>\n",
       "      <td>2112</td>\n",
       "      <td>120</td>\n",
       "    </tr>\n",
       "    <tr>\n",
       "      <th>9</th>\n",
       "      <td>AT4M</td>\n",
       "      <td>1.00</td>\n",
       "      <td>3030975.00</td>\n",
       "      <td>307.00</td>\n",
       "      <td>Primeblue nylon</td>\n",
       "      <td>216</td>\n",
       "      <td>96</td>\n",
       "    </tr>\n",
       "    <tr>\n",
       "      <th>10</th>\n",
       "      <td>AT2P</td>\n",
       "      <td>106.00</td>\n",
       "      <td>9759758.00</td>\n",
       "      <td>1.00</td>\n",
       "      <td>Recycled</td>\n",
       "      <td>211</td>\n",
       "      <td>108</td>\n",
       "    </tr>\n",
       "  </tbody>\n",
       "</table>\n",
       "</div>"
      ],
      "text/plain": [
       "   MATERIAL_CONTENT_CODE  PRODUCT_TYPES  BUSINESS_SEGMENTS  NRF_COLOR_CODE  \\\n",
       "6                   AT2E           1.00         3030975.00            1.00   \n",
       "7                   DO0S          39.00          303034.00          610.00   \n",
       "8                   TRK4          13.00          975342.00          610.00   \n",
       "9                   AT4M           1.00         3030975.00          307.00   \n",
       "10                  AT2P         106.00         9759758.00            1.00   \n",
       "\n",
       "        Sustainablity MARKETING_CATEGORY  Units_sold  \n",
       "6   Organic materials               2115          36  \n",
       "7            Recycled                211         120  \n",
       "8            PFC free               2112         120  \n",
       "9     Primeblue nylon                216          96  \n",
       "10           Recycled                211         108  "
      ]
     },
     "execution_count": 6,
     "metadata": {},
     "output_type": "execute_result"
    }
   ],
   "source": [
    "input_train_path = data / \"01_raw\" / \"train_raw.csv\"\n",
    "train = pd.read_parquet(input_train_path)\n",
    "train.head()"
   ]
  },
  {
   "cell_type": "code",
   "execution_count": 7,
   "metadata": {},
   "outputs": [
    {
     "data": {
      "text/plain": [
       "(48232, 7)"
      ]
     },
     "execution_count": 7,
     "metadata": {},
     "output_type": "execute_result"
    }
   ],
   "source": [
    "train.shape"
   ]
  },
  {
   "cell_type": "markdown",
   "metadata": {},
   "source": [
    "# Feature engineering"
   ]
  },
  {
   "cell_type": "markdown",
   "metadata": {},
   "source": [
    "Add event, festival flags"
   ]
  },
  {
   "cell_type": "markdown",
   "metadata": {},
   "source": [
    "#### 1- Add borough"
   ]
  },
  {
   "cell_type": "code",
   "execution_count": 35,
   "metadata": {},
   "outputs": [],
   "source": [
    "# Get borough corresponsing to areas from the first letter of area code\n",
    "train[\"borough\"] = get_area_borough(train[\"area\"])\n",
    "assert train[\"borough\"].isnull().sum() == 0"
   ]
  },
  {
   "cell_type": "code",
   "execution_count": 36,
   "metadata": {},
   "outputs": [
    {
     "data": {
      "text/plain": [
       "array(['Neiuw-West', 'Zuidoost', 'Oost', 'Centrum', 'Zuid', 'West',\n",
       "       'Noord'], dtype=object)"
      ]
     },
     "execution_count": 36,
     "metadata": {},
     "output_type": "execute_result"
    }
   ],
   "source": [
    "train[\"borough\"].unique()\n",
    "# Great that no houses in port area"
   ]
  },
  {
   "cell_type": "code",
   "execution_count": 37,
   "metadata": {},
   "outputs": [
    {
     "data": {
      "text/plain": [
       "<AxesSubplot:xlabel='borough', ylabel='avg_woz'>"
      ]
     },
     "execution_count": 37,
     "metadata": {},
     "output_type": "execute_result"
    },
    {
     "data": {
      "image/png": "[encoded data removed]",
      "text/plain": [
       "<Figure size 432x288 with 1 Axes>"
      ]
     },
     "metadata": {
      "needs_background": "light"
     },
     "output_type": "display_data"
    }
   ],
   "source": [
    "sns.pointplot(data=train, x=\"borough\", y=TARGET, estimator=np.mean)"
   ]
  },
  {
   "cell_type": "markdown",
   "metadata": {},
   "source": [
    "#### 2- Add % of hh counts by row totals and col totals"
   ]
  },
  {
   "cell_type": "code",
   "execution_count": 38,
   "metadata": {},
   "outputs": [
    {
     "name": "stdout",
     "output_type": "stream",
     "text": [
      "Index(['single', 'married, no kids', 'not married, no kids',\n",
      "       'married, with kids', 'not married, with kids', 'single parent',\n",
      "       'other'],\n",
      "      dtype='object')\n"
     ]
    },
    {
     "data": {
      "text/html": [
       "<div>\n",
       "<style scoped>\n",
       "    .dataframe tbody tr th:only-of-type {\n",
       "        vertical-align: middle;\n",
       "    }\n",
       "\n",
       "    .dataframe tbody tr th {\n",
       "        vertical-align: top;\n",
       "    }\n",
       "\n",
       "    .dataframe thead th {\n",
       "        text-align: right;\n",
       "    }\n",
       "</style>\n",
       "<table border=\"1\" class=\"dataframe\">\n",
       "  <thead>\n",
       "    <tr style=\"text-align: right;\">\n",
       "      <th></th>\n",
       "      <th>perc_area_single</th>\n",
       "      <th>perc_area_married, no kids</th>\n",
       "      <th>perc_area_not married, no kids</th>\n",
       "      <th>perc_area_married, with kids</th>\n",
       "      <th>perc_area_not married, with kids</th>\n",
       "      <th>perc_area_single parent</th>\n",
       "      <th>perc_area_other</th>\n",
       "    </tr>\n",
       "  </thead>\n",
       "  <tbody>\n",
       "    <tr>\n",
       "      <th>174</th>\n",
       "      <td>42.9268</td>\n",
       "      <td>12.0557</td>\n",
       "      <td>8.9895</td>\n",
       "      <td>19.8606</td>\n",
       "      <td>3.7631</td>\n",
       "      <td>9.8258</td>\n",
       "      <td>2.5784</td>\n",
       "    </tr>\n",
       "    <tr>\n",
       "      <th>457</th>\n",
       "      <td>56.3536</td>\n",
       "      <td>4.6041</td>\n",
       "      <td>7.5506</td>\n",
       "      <td>6.3229</td>\n",
       "      <td>4.9110</td>\n",
       "      <td>18.9073</td>\n",
       "      <td>1.3505</td>\n",
       "    </tr>\n",
       "    <tr>\n",
       "      <th>440</th>\n",
       "      <td>34.5844</td>\n",
       "      <td>5.3619</td>\n",
       "      <td>9.3834</td>\n",
       "      <td>22.5201</td>\n",
       "      <td>10.9920</td>\n",
       "      <td>15.0134</td>\n",
       "      <td>2.1448</td>\n",
       "    </tr>\n",
       "    <tr>\n",
       "      <th>297</th>\n",
       "      <td>50.6341</td>\n",
       "      <td>8.1951</td>\n",
       "      <td>9.5122</td>\n",
       "      <td>16.8780</td>\n",
       "      <td>3.3659</td>\n",
       "      <td>10.1951</td>\n",
       "      <td>1.2195</td>\n",
       "    </tr>\n",
       "    <tr>\n",
       "      <th>201</th>\n",
       "      <td>32.7635</td>\n",
       "      <td>22.2934</td>\n",
       "      <td>7.4074</td>\n",
       "      <td>21.6524</td>\n",
       "      <td>5.6980</td>\n",
       "      <td>9.0456</td>\n",
       "      <td>1.1396</td>\n",
       "    </tr>\n",
       "  </tbody>\n",
       "</table>\n",
       "</div>"
      ],
      "text/plain": [
       "     perc_area_single  perc_area_married, no kids  \\\n",
       "174           42.9268                     12.0557   \n",
       "457           56.3536                      4.6041   \n",
       "440           34.5844                      5.3619   \n",
       "297           50.6341                      8.1951   \n",
       "201           32.7635                     22.2934   \n",
       "\n",
       "     perc_area_not married, no kids  perc_area_married, with kids  \\\n",
       "174                          8.9895                       19.8606   \n",
       "457                          7.5506                        6.3229   \n",
       "440                          9.3834                       22.5201   \n",
       "297                          9.5122                       16.8780   \n",
       "201                          7.4074                       21.6524   \n",
       "\n",
       "     perc_area_not married, with kids  perc_area_single parent  \\\n",
       "174                            3.7631                   9.8258   \n",
       "457                            4.9110                  18.9073   \n",
       "440                           10.9920                  15.0134   \n",
       "297                            3.3659                  10.1951   \n",
       "201                            5.6980                   9.0456   \n",
       "\n",
       "     perc_area_other  \n",
       "174           2.5784  \n",
       "457           1.3505  \n",
       "440           2.1448  \n",
       "297           1.2195  \n",
       "201           1.1396  "
      ]
     },
     "execution_count": 38,
     "metadata": {},
     "output_type": "execute_result"
    }
   ],
   "source": [
    "# divide house counts by row totals\n",
    "num_train = train.iloc[:, 1:8]\n",
    "print(num_train.columns)\n",
    "row_totals = num_train.div(train[\"total\"], axis=0) * 100\n",
    "row_totals = row_totals.add_prefix(\"perc_area_\")\n",
    "row_totals.head()"
   ]
  },
  {
   "cell_type": "code",
   "execution_count": 39,
   "metadata": {},
   "outputs": [
    {
     "data": {
      "text/html": [
       "<div>\n",
       "<style scoped>\n",
       "    .dataframe tbody tr th:only-of-type {\n",
       "        vertical-align: middle;\n",
       "    }\n",
       "\n",
       "    .dataframe tbody tr th {\n",
       "        vertical-align: top;\n",
       "    }\n",
       "\n",
       "    .dataframe thead th {\n",
       "        text-align: right;\n",
       "    }\n",
       "</style>\n",
       "<table border=\"1\" class=\"dataframe\">\n",
       "  <thead>\n",
       "    <tr style=\"text-align: right;\">\n",
       "      <th></th>\n",
       "      <th>perc_of_tot_fam_type_single</th>\n",
       "      <th>perc_of_tot_fam_type_married, no kids</th>\n",
       "      <th>perc_of_tot_fam_type_not married, no kids</th>\n",
       "      <th>perc_of_tot_fam_type_married, with kids</th>\n",
       "      <th>perc_of_tot_fam_type_not married, with kids</th>\n",
       "      <th>perc_of_tot_fam_type_single parent</th>\n",
       "      <th>perc_of_tot_fam_type_other</th>\n",
       "    </tr>\n",
       "  </thead>\n",
       "  <tbody>\n",
       "    <tr>\n",
       "      <th>174</th>\n",
       "      <td>0.2906</td>\n",
       "      <td>0.4728</td>\n",
       "      <td>0.2849</td>\n",
       "      <td>0.6160</td>\n",
       "      <td>0.2851</td>\n",
       "      <td>0.3898</td>\n",
       "      <td>0.6652</td>\n",
       "    </tr>\n",
       "    <tr>\n",
       "      <th>457</th>\n",
       "      <td>0.4331</td>\n",
       "      <td>0.2050</td>\n",
       "      <td>0.2717</td>\n",
       "      <td>0.2226</td>\n",
       "      <td>0.4224</td>\n",
       "      <td>0.8516</td>\n",
       "      <td>0.3955</td>\n",
       "    </tr>\n",
       "    <tr>\n",
       "      <th>440</th>\n",
       "      <td>0.0609</td>\n",
       "      <td>0.0547</td>\n",
       "      <td>0.0773</td>\n",
       "      <td>0.1816</td>\n",
       "      <td>0.2165</td>\n",
       "      <td>0.1548</td>\n",
       "      <td>0.1438</td>\n",
       "    </tr>\n",
       "    <tr>\n",
       "      <th>297</th>\n",
       "      <td>0.4898</td>\n",
       "      <td>0.4591</td>\n",
       "      <td>0.4307</td>\n",
       "      <td>0.7478</td>\n",
       "      <td>0.3643</td>\n",
       "      <td>0.5778</td>\n",
       "      <td>0.4495</td>\n",
       "    </tr>\n",
       "    <tr>\n",
       "      <th>201</th>\n",
       "      <td>0.2170</td>\n",
       "      <td>0.8553</td>\n",
       "      <td>0.2297</td>\n",
       "      <td>0.6570</td>\n",
       "      <td>0.4224</td>\n",
       "      <td>0.3511</td>\n",
       "      <td>0.2877</td>\n",
       "    </tr>\n",
       "  </tbody>\n",
       "</table>\n",
       "</div>"
      ],
      "text/plain": [
       "     perc_of_tot_fam_type_single  perc_of_tot_fam_type_married, no kids  \\\n",
       "174                       0.2906                                 0.4728   \n",
       "457                       0.4331                                 0.2050   \n",
       "440                       0.0609                                 0.0547   \n",
       "297                       0.4898                                 0.4591   \n",
       "201                       0.2170                                 0.8553   \n",
       "\n",
       "     perc_of_tot_fam_type_not married, no kids  \\\n",
       "174                                     0.2849   \n",
       "457                                     0.2717   \n",
       "440                                     0.0773   \n",
       "297                                     0.4307   \n",
       "201                                     0.2297   \n",
       "\n",
       "     perc_of_tot_fam_type_married, with kids  \\\n",
       "174                                   0.6160   \n",
       "457                                   0.2226   \n",
       "440                                   0.1816   \n",
       "297                                   0.7478   \n",
       "201                                   0.6570   \n",
       "\n",
       "     perc_of_tot_fam_type_not married, with kids  \\\n",
       "174                                       0.2851   \n",
       "457                                       0.4224   \n",
       "440                                       0.2165   \n",
       "297                                       0.3643   \n",
       "201                                       0.4224   \n",
       "\n",
       "     perc_of_tot_fam_type_single parent  perc_of_tot_fam_type_other  \n",
       "174                              0.3898                      0.6652  \n",
       "457                              0.8516                      0.3955  \n",
       "440                              0.1548                      0.1438  \n",
       "297                              0.5778                      0.4495  \n",
       "201                              0.3511                      0.2877  "
      ]
     },
     "execution_count": 39,
     "metadata": {},
     "output_type": "execute_result"
    }
   ],
   "source": [
    "# divide house counts by col totals\n",
    "col_totals = num_train.div(num_train.sum(axis=0), axis=1) * 100\n",
    "col_totals = col_totals.add_prefix(\"perc_of_tot_fam_type_\")\n",
    "col_totals.head()"
   ]
  },
  {
   "cell_type": "code",
   "execution_count": 40,
   "metadata": {},
   "outputs": [],
   "source": [
    "# merge row_totals and col_totals before merging into train dataframe\n",
    "totals = row_totals.merge(col_totals, how=\"inner\", left_index=True, right_index=True)\n",
    "assert totals.shape[0] == row_totals.shape[0]\n",
    "assert totals.shape[1] == row_totals.shape[1] * 2\n",
    "totals.head()\n",
    "\n",
    "del row_totals, col_totals"
   ]
  },
  {
   "cell_type": "code",
   "execution_count": 41,
   "metadata": {},
   "outputs": [
    {
     "data": {
      "text/plain": [
       "(343, 26)"
      ]
     },
     "execution_count": 41,
     "metadata": {},
     "output_type": "execute_result"
    }
   ],
   "source": [
    "train = train.merge(totals, how=\"inner\", left_index=True, right_index=True)\n",
    "train.shape"
   ]
  },
  {
   "cell_type": "code",
   "execution_count": 42,
   "metadata": {},
   "outputs": [],
   "source": [
    "del totals"
   ]
  },
  {
   "cell_type": "markdown",
   "metadata": {},
   "source": [
    "#### 3- Add features derived from area's name"
   ]
  },
  {
   "cell_type": "code",
   "execution_count": 43,
   "metadata": {},
   "outputs": [],
   "source": [
    "train[\"area_lower\"] = train[\"area\"].str.lower()\n",
    "\n",
    "train[\"area_has_buurt\"] = train[\"area_lower\"].str.contains(\"buurt\")\n",
    "train[\"area_has_burg\"] = train[\"area_lower\"].str.contains(\"burg\")\n",
    "train[\"area_has_dijk\"] = train[\"area_lower\"].str.contains(\"dijk\")\n",
    "train[\"area_has_park\"] = train[\"area_lower\"].str.contains(\"park\")\n",
    "train[\"area_has_plein\"] = train[\"area_lower\"].str.contains(\"plein\")\n",
    "train[\"area_has_nieuw\"] = train[\"area_lower\"].str.contains(\"nieuw\")\n",
    "train[\"area_has_gracht\"] = train[\"area_lower\"].str.contains(\"gracht\")\n",
    "train[\"area_has_dorp\"] = train[\"area_lower\"].str.contains(\"dorp\")\n",
    "\n",
    "train.drop(columns=\"area_lower\", inplace=True)"
   ]
  },
  {
   "cell_type": "code",
   "execution_count": 44,
   "metadata": {},
   "outputs": [
    {
     "name": "stdout",
     "output_type": "stream",
     "text": [
      "area_has_buurt is True for 161 areas\n",
      "area_has_burg is True for 11 areas\n",
      "area_has_dijk is True for 9 areas\n",
      "area_has_park is True for 19 areas\n",
      "area_has_plein is True for 17 areas\n",
      "area_has_nieuw is True for 10 areas\n",
      "area_has_gracht is True for 7 areas\n",
      "area_has_dorp is True for 19 areas\n"
     ]
    }
   ],
   "source": [
    "for col in train.select_dtypes(include=\"bool\").columns:\n",
    "    print(f\"{col} is True for {train[train[col]==True]['single'].count()} areas\")"
   ]
  },
  {
   "cell_type": "code",
   "execution_count": 45,
   "metadata": {},
   "outputs": [
    {
     "data": {
      "text/plain": [
       "(343, 34)"
      ]
     },
     "execution_count": 45,
     "metadata": {},
     "output_type": "execute_result"
    }
   ],
   "source": [
    "train.shape"
   ]
  },
  {
   "cell_type": "markdown",
   "metadata": {},
   "source": [
    "#### 4- Add borough details"
   ]
  },
  {
   "cell_type": "code",
   "execution_count": 46,
   "metadata": {},
   "outputs": [
    {
     "data": {
      "text/html": [
       "<div>\n",
       "<style scoped>\n",
       "    .dataframe tbody tr th:only-of-type {\n",
       "        vertical-align: middle;\n",
       "    }\n",
       "\n",
       "    .dataframe tbody tr th {\n",
       "        vertical-align: top;\n",
       "    }\n",
       "\n",
       "    .dataframe thead th {\n",
       "        text-align: right;\n",
       "    }\n",
       "</style>\n",
       "<table border=\"1\" class=\"dataframe\">\n",
       "  <thead>\n",
       "    <tr style=\"text-align: right;\">\n",
       "      <th></th>\n",
       "      <th>borough</th>\n",
       "      <th>Highest_income_hhs</th>\n",
       "      <th>Touristy</th>\n",
       "      <th>Diversity</th>\n",
       "      <th>HasHomeStadium</th>\n",
       "      <th>IsPosh</th>\n",
       "    </tr>\n",
       "  </thead>\n",
       "  <tbody>\n",
       "    <tr>\n",
       "      <th>0</th>\n",
       "      <td>Centrum</td>\n",
       "      <td>1</td>\n",
       "      <td>1</td>\n",
       "      <td>4</td>\n",
       "      <td>9</td>\n",
       "      <td>3</td>\n",
       "    </tr>\n",
       "    <tr>\n",
       "      <th>1</th>\n",
       "      <td>Noord</td>\n",
       "      <td>0</td>\n",
       "      <td>9</td>\n",
       "      <td>9</td>\n",
       "      <td>9</td>\n",
       "      <td>9</td>\n",
       "    </tr>\n",
       "    <tr>\n",
       "      <th>2</th>\n",
       "      <td>Neiuw-West</td>\n",
       "      <td>0</td>\n",
       "      <td>9</td>\n",
       "      <td>9</td>\n",
       "      <td>9</td>\n",
       "      <td>9</td>\n",
       "    </tr>\n",
       "    <tr>\n",
       "      <th>3</th>\n",
       "      <td>Oost</td>\n",
       "      <td>0</td>\n",
       "      <td>4</td>\n",
       "      <td>1</td>\n",
       "      <td>9</td>\n",
       "      <td>9</td>\n",
       "    </tr>\n",
       "    <tr>\n",
       "      <th>4</th>\n",
       "      <td>West</td>\n",
       "      <td>0</td>\n",
       "      <td>2</td>\n",
       "      <td>2</td>\n",
       "      <td>9</td>\n",
       "      <td>2</td>\n",
       "    </tr>\n",
       "    <tr>\n",
       "      <th>5</th>\n",
       "      <td>Westpoort</td>\n",
       "      <td>0</td>\n",
       "      <td>4</td>\n",
       "      <td>9</td>\n",
       "      <td>9</td>\n",
       "      <td>9</td>\n",
       "    </tr>\n",
       "    <tr>\n",
       "      <th>6</th>\n",
       "      <td>Zuid</td>\n",
       "      <td>1</td>\n",
       "      <td>1</td>\n",
       "      <td>4</td>\n",
       "      <td>9</td>\n",
       "      <td>1</td>\n",
       "    </tr>\n",
       "    <tr>\n",
       "      <th>7</th>\n",
       "      <td>Zuidoost</td>\n",
       "      <td>0</td>\n",
       "      <td>4</td>\n",
       "      <td>9</td>\n",
       "      <td>1</td>\n",
       "      <td>9</td>\n",
       "    </tr>\n",
       "  </tbody>\n",
       "</table>\n",
       "</div>"
      ],
      "text/plain": [
       "      borough  Highest_income_hhs  Touristy  Diversity  HasHomeStadium  IsPosh\n",
       "0     Centrum                   1         1          4               9       3\n",
       "1       Noord                   0         9          9               9       9\n",
       "2  Neiuw-West                   0         9          9               9       9\n",
       "3        Oost                   0         4          1               9       9\n",
       "4        West                   0         2          2               9       2\n",
       "5   Westpoort                   0         4          9               9       9\n",
       "6        Zuid                   1         1          4               9       1\n",
       "7    Zuidoost                   0         4          9               1       9"
      ]
     },
     "execution_count": 46,
     "metadata": {},
     "output_type": "execute_result"
    }
   ],
   "source": [
    "# get area per borough and calc housing density\n",
    "borough_details = pd.read_csv(data / \"borough_details.csv\")\n",
    "\n",
    "borough_details[\"borough\"] = borough_details[\"borough\"].replace(\n",
    "    \"Nieuw-West\", \"Neiuw-West\"\n",
    ")\n",
    "\n",
    "borough_details.drop(\n",
    "    columns=[\"km_sq\", \"New\", \"HasBijlmer\", \"VondelparkProximity\", \"Museumplein\"],\n",
    "    inplace=True,\n",
    ")\n",
    "\n",
    "borough_details.head(8)"
   ]
  },
  {
   "cell_type": "code",
   "execution_count": null,
   "metadata": {},
   "outputs": [],
   "source": [
    "# Saving borough details as dicionary for test data transformation\n",
    "borough_details.to_dict()"
   ]
  },
  {
   "cell_type": "code",
   "execution_count": 47,
   "metadata": {},
   "outputs": [],
   "source": [
    "train_details = train.merge(borough_details, how=\"left\", on=\"borough\")"
   ]
  },
  {
   "cell_type": "code",
   "execution_count": 48,
   "metadata": {},
   "outputs": [
    {
     "data": {
      "text/plain": [
       "<AxesSubplot:xlabel='Highest_income_hhs', ylabel='avg_woz'>"
      ]
     },
     "execution_count": 48,
     "metadata": {},
     "output_type": "execute_result"
    },
    {
     "data": {
      "image/png": "[encoded data removed]",
      "text/plain": [
       "<Figure size 432x288 with 1 Axes>"
      ]
     },
     "metadata": {
      "needs_background": "light"
     },
     "output_type": "display_data"
    }
   ],
   "source": [
    "col = \"Highest_income_hhs\"\n",
    "sns.boxplot(data=train_details, x=col, y=TARGET)"
   ]
  },
  {
   "cell_type": "code",
   "execution_count": 49,
   "metadata": {},
   "outputs": [
    {
     "data": {
      "text/plain": [
       "<AxesSubplot:xlabel='Touristy', ylabel='avg_woz'>"
      ]
     },
     "execution_count": 49,
     "metadata": {},
     "output_type": "execute_result"
    },
    {
     "data": {
      "image/png": "[encoded data removed]",
      "text/plain": [
       "<Figure size 432x288 with 1 Axes>"
      ]
     },
     "metadata": {
      "needs_background": "light"
     },
     "output_type": "display_data"
    }
   ],
   "source": [
    "col = \"Touristy\"\n",
    "sns.boxplot(data=train_details, x=col, y=TARGET)"
   ]
  },
  {
   "cell_type": "code",
   "execution_count": 50,
   "metadata": {},
   "outputs": [
    {
     "data": {
      "text/plain": [
       "<AxesSubplot:xlabel='Diversity', ylabel='avg_woz'>"
      ]
     },
     "execution_count": 50,
     "metadata": {},
     "output_type": "execute_result"
    },
    {
     "data": {
      "image/png": "[encoded data removed]",
      "text/plain": [
       "<Figure size 432x288 with 1 Axes>"
      ]
     },
     "metadata": {
      "needs_background": "light"
     },
     "output_type": "display_data"
    }
   ],
   "source": [
    "col = \"Diversity\"\n",
    "sns.boxplot(data=train_details, x=col, y=TARGET)"
   ]
  },
  {
   "cell_type": "code",
   "execution_count": 51,
   "metadata": {},
   "outputs": [
    {
     "data": {
      "text/plain": [
       "<AxesSubplot:xlabel='HasHomeStadium', ylabel='avg_woz'>"
      ]
     },
     "execution_count": 51,
     "metadata": {},
     "output_type": "execute_result"
    },
    {
     "data": {
      "image/png": "[encoded data removed]",
      "text/plain": [
       "<Figure size 432x288 with 1 Axes>"
      ]
     },
     "metadata": {
      "needs_background": "light"
     },
     "output_type": "display_data"
    }
   ],
   "source": [
    "col = \"HasHomeStadium\"\n",
    "sns.boxplot(data=train_details, x=col, y=TARGET)"
   ]
  },
  {
   "cell_type": "code",
   "execution_count": 52,
   "metadata": {},
   "outputs": [
    {
     "data": {
      "text/plain": [
       "<AxesSubplot:xlabel='IsPosh', ylabel='avg_woz'>"
      ]
     },
     "execution_count": 52,
     "metadata": {},
     "output_type": "execute_result"
    },
    {
     "data": {
      "image/png": "[encoded data removed]",
      "text/plain": [
       "<Figure size 432x288 with 1 Axes>"
      ]
     },
     "metadata": {
      "needs_background": "light"
     },
     "output_type": "display_data"
    }
   ],
   "source": [
    "col = \"IsPosh\"\n",
    "sns.boxplot(data=train_details, x=col, y=TARGET)"
   ]
  },
  {
   "cell_type": "markdown",
   "metadata": {},
   "source": [
    "The columns with ordinal values are manually filled using research, with subjective rankings.\n",
    "This is a shortcut. Ideally, I would take latitudes and longitudes of all areas and get their distances from major landmarks, also from nearest schools, parks, hospitals, tech parks, cultural centers, supermarkets, etc. \n",
    "In some cases, distance would make less sense and just presence/no presence kind of feature would."
   ]
  },
  {
   "cell_type": "code",
   "execution_count": 53,
   "metadata": {},
   "outputs": [],
   "source": [
    "train_details = train.merge(borough_details, how=\"left\", on=\"borough\")\n",
    "assert train_details.shape == (\n",
    "    train.shape[0],\n",
    "    train.shape[1] + borough_details.shape[1] - 1,\n",
    ")"
   ]
  },
  {
   "cell_type": "code",
   "execution_count": 54,
   "metadata": {},
   "outputs": [
    {
     "data": {
      "text/plain": [
       "(343, 39)"
      ]
     },
     "execution_count": 54,
     "metadata": {},
     "output_type": "execute_result"
    }
   ],
   "source": [
    "train_details.shape"
   ]
  },
  {
   "cell_type": "markdown",
   "metadata": {},
   "source": [
    "At this point, the number of columns have exceeded 34, which it should not! We have limited number of rows and we want to maintain row to column ratio as < 10."
   ]
  },
  {
   "cell_type": "markdown",
   "metadata": {},
   "source": [
    "Can drop `abs_cols` from modeling and that will be fine"
   ]
  },
  {
   "cell_type": "code",
   "execution_count": 55,
   "metadata": {},
   "outputs": [
    {
     "data": {
      "text/plain": [
       "['single',\n",
       " 'married, no kids',\n",
       " 'not married, no kids',\n",
       " 'married, with kids',\n",
       " 'not married, with kids',\n",
       " 'single parent',\n",
       " 'other']"
      ]
     },
     "execution_count": 55,
     "metadata": {},
     "output_type": "execute_result"
    }
   ],
   "source": [
    "abs_cols"
   ]
  },
  {
   "cell_type": "code",
   "execution_count": 56,
   "metadata": {},
   "outputs": [],
   "source": [
    "# Also, see the model with and without these columns. This is because the borough name might make up for these additional details.\n",
    "borough_details = [\n",
    "    \"Highest_income_hhs\",\n",
    "    \"Touristy\",\n",
    "    \"Diversity\",\n",
    "    \"HasHomeStadium\",\n",
    "    \"IsPosh\",\n",
    "]"
   ]
  },
  {
   "cell_type": "code",
   "execution_count": 57,
   "metadata": {},
   "outputs": [
    {
     "data": {
      "text/plain": [
       "0"
      ]
     },
     "execution_count": 57,
     "metadata": {},
     "output_type": "execute_result"
    }
   ],
   "source": [
    "train_details.isnull().sum().sum()"
   ]
  },
  {
   "cell_type": "code",
   "execution_count": 58,
   "metadata": {},
   "outputs": [],
   "source": [
    "output_path = data / \"02_intermediate/train_feature_engg.csv\"\n",
    "train_details.to_parquet(output_path, index=None)"
   ]
  }
 ],
 "metadata": {
  "kernelspec": {
   "display_name": "Python 3 (ipykernel)",
   "language": "python",
   "name": "python3"
  },
  "language_info": {
   "codemirror_mode": {
    "name": "ipython",
    "version": 3
   },
   "file_extension": ".py",
   "mimetype": "text/x-python",
   "name": "python",
   "nbconvert_exporter": "python",
   "pygments_lexer": "ipython3",
   "version": "3.8.12"
  }
 },
 "nbformat": 4,
 "nbformat_minor": 4
}
