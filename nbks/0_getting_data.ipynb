{
 "cells": [
  {
   "cell_type": "code",
   "execution_count": 1,
   "metadata": {},
   "outputs": [],
   "source": [
    "%load_ext lab_black"
   ]
  },
  {
   "cell_type": "markdown",
   "metadata": {},
   "source": [
    "# Project objective: Demand forecast (unit sales) for potential new products for \"The Brand\"\n"
   ]
  },
  {
   "cell_type": "markdown",
   "metadata": {},
   "source": [
    "The Brand is a niche online boutique that develops designer products in partnership with other businesses and plans limited quantity flash sales for them."
   ]
  },
  {
   "cell_type": "markdown",
   "metadata": {},
   "source": [
    "Use case: An accurate demand prediction for a potential new product's sales event can help produce the right quantity of these products.\n"
   ]
  },
  {
   "cell_type": "markdown",
   "metadata": {},
   "source": [
    "**Notebook objective: Read input files, do basic data cleansing and merge them**<br/>\n",
    "Cleaning steps:<br/>\n",
    " - Checking duplicates<br/>\n",
    " - Fixing missing values<br/>\n",
    " - Checking and dealing with outliers<br/>\n"
   ]
  },
  {
   "cell_type": "code",
   "execution_count": 2,
   "metadata": {},
   "outputs": [],
   "source": [
    "import pandas as pd\n",
    "from pathlib import Path\n",
    "\n",
    "import matplotlib.pyplot as plt\n",
    "\n",
    "%matplotlib inline\n",
    "import seaborn as sns\n",
    "import missingno as msno"
   ]
  },
  {
   "cell_type": "code",
   "execution_count": 3,
   "metadata": {},
   "outputs": [],
   "source": [
    "pd.options.display.float_format = \"{:.2f}\".format\n",
    "# pd.set_option(\"display.max_columns\", 99)\n",
    "pd.set_option(\"display.max_rows\", 99)\n",
    "pd.set_option(\"display.max_colwidth\", 199)"
   ]
  },
  {
   "cell_type": "code",
   "execution_count": 4,
   "metadata": {},
   "outputs": [],
   "source": [
    "base_dir = Path(\"/Users/igari/OneDrive/Documents/thebrand\")\n",
    "data = base_dir / \"data\""
   ]
  },
  {
   "cell_type": "markdown",
   "metadata": {},
   "source": [
    "# 1 - Reading input data with features"
   ]
  },
  {
   "cell_type": "code",
   "execution_count": 5,
   "metadata": {},
   "outputs": [
    {
     "data": {
      "text/html": [
       "<div>\n",
       "<style scoped>\n",
       "    .dataframe tbody tr th:only-of-type {\n",
       "        vertical-align: middle;\n",
       "    }\n",
       "\n",
       "    .dataframe tbody tr th {\n",
       "        vertical-align: top;\n",
       "    }\n",
       "\n",
       "    .dataframe thead th {\n",
       "        text-align: right;\n",
       "    }\n",
       "</style>\n",
       "<table border=\"1\" class=\"dataframe\">\n",
       "  <thead>\n",
       "    <tr style=\"text-align: right;\">\n",
       "      <th></th>\n",
       "      <th>Article</th>\n",
       "      <th>MATERIAL_CONTENT_CODE</th>\n",
       "      <th>PRODUCT_TYPES</th>\n",
       "      <th>BUSINESS_SEGMENTS</th>\n",
       "      <th>NRF_COLOR_CODE</th>\n",
       "      <th>MODEL</th>\n",
       "      <th>Sustainablity</th>\n",
       "      <th>MARKETING_CATEGORY</th>\n",
       "    </tr>\n",
       "  </thead>\n",
       "  <tbody>\n",
       "    <tr>\n",
       "      <th>0</th>\n",
       "      <td>A1</td>\n",
       "      <td>TRFU</td>\n",
       "      <td>44.00</td>\n",
       "      <td>97528.00</td>\n",
       "      <td>1.00</td>\n",
       "      <td>GKD49</td>\n",
       "      <td>Organic materials</td>\n",
       "      <td>GK6</td>\n",
       "    </tr>\n",
       "    <tr>\n",
       "      <th>1</th>\n",
       "      <td>B2</td>\n",
       "      <td>AT2E</td>\n",
       "      <td>1.00</td>\n",
       "      <td>3030975.00</td>\n",
       "      <td>1.00</td>\n",
       "      <td>21972</td>\n",
       "      <td>Organic materials</td>\n",
       "      <td>2115</td>\n",
       "    </tr>\n",
       "    <tr>\n",
       "      <th>2</th>\n",
       "      <td>C3</td>\n",
       "      <td>TREU</td>\n",
       "      <td>39.00</td>\n",
       "      <td>303034.00</td>\n",
       "      <td>997.00</td>\n",
       "      <td>KYH28</td>\n",
       "      <td>Low carbon footprint</td>\n",
       "      <td>KY25</td>\n",
       "    </tr>\n",
       "    <tr>\n",
       "      <th>3</th>\n",
       "      <td>D4</td>\n",
       "      <td>TRK4</td>\n",
       "      <td>51.00</td>\n",
       "      <td>30305.00</td>\n",
       "      <td>400.00</td>\n",
       "      <td>GUP97</td>\n",
       "      <td>Reegrow</td>\n",
       "      <td>GU16</td>\n",
       "    </tr>\n",
       "    <tr>\n",
       "      <th>4</th>\n",
       "      <td>E5</td>\n",
       "      <td>TRK4</td>\n",
       "      <td>19.00</td>\n",
       "      <td>886.00</td>\n",
       "      <td>1.00</td>\n",
       "      <td>DBI07</td>\n",
       "      <td>Recycleable</td>\n",
       "      <td>DB7</td>\n",
       "    </tr>\n",
       "    <tr>\n",
       "      <th>5</th>\n",
       "      <td>F6</td>\n",
       "      <td>AT2F</td>\n",
       "      <td>1.00</td>\n",
       "      <td>9752975.00</td>\n",
       "      <td>1.00</td>\n",
       "      <td>GVT47</td>\n",
       "      <td>Vegan</td>\n",
       "      <td>GV13</td>\n",
       "    </tr>\n",
       "    <tr>\n",
       "      <th>6</th>\n",
       "      <td>G7</td>\n",
       "      <td>DO0N</td>\n",
       "      <td>78.00</td>\n",
       "      <td>30307.00</td>\n",
       "      <td>1.00</td>\n",
       "      <td>FTS61</td>\n",
       "      <td>Not Applicable</td>\n",
       "      <td>FT5</td>\n",
       "    </tr>\n",
       "    <tr>\n",
       "      <th>7</th>\n",
       "      <td>H8</td>\n",
       "      <td>AT2E</td>\n",
       "      <td>1.00</td>\n",
       "      <td>30934.00</td>\n",
       "      <td>689.00</td>\n",
       "      <td>FCF74</td>\n",
       "      <td>Vegan</td>\n",
       "      <td>FC0</td>\n",
       "    </tr>\n",
       "    <tr>\n",
       "      <th>8</th>\n",
       "      <td>I9</td>\n",
       "      <td>AT2E</td>\n",
       "      <td>1.00</td>\n",
       "      <td>30934.00</td>\n",
       "      <td>300.00</td>\n",
       "      <td>DBG98</td>\n",
       "      <td>Reegrow</td>\n",
       "      <td>DB18</td>\n",
       "    </tr>\n",
       "    <tr>\n",
       "      <th>9</th>\n",
       "      <td>J10</td>\n",
       "      <td>AT2E</td>\n",
       "      <td>161.00</td>\n",
       "      <td>3030975.00</td>\n",
       "      <td>1.00</td>\n",
       "      <td>AQT17</td>\n",
       "      <td>Primeblue nylon</td>\n",
       "      <td>AQ11</td>\n",
       "    </tr>\n",
       "  </tbody>\n",
       "</table>\n",
       "</div>"
      ],
      "text/plain": [
       "  Article MATERIAL_CONTENT_CODE  PRODUCT_TYPES  BUSINESS_SEGMENTS  \\\n",
       "0      A1                  TRFU          44.00           97528.00   \n",
       "1      B2                  AT2E           1.00         3030975.00   \n",
       "2      C3                  TREU          39.00          303034.00   \n",
       "3      D4                  TRK4          51.00           30305.00   \n",
       "4      E5                  TRK4          19.00             886.00   \n",
       "5      F6                  AT2F           1.00         9752975.00   \n",
       "6      G7                  DO0N          78.00           30307.00   \n",
       "7      H8                  AT2E           1.00           30934.00   \n",
       "8      I9                  AT2E           1.00           30934.00   \n",
       "9     J10                  AT2E         161.00         3030975.00   \n",
       "\n",
       "   NRF_COLOR_CODE  MODEL         Sustainablity MARKETING_CATEGORY  \n",
       "0            1.00  GKD49     Organic materials                GK6  \n",
       "1            1.00  21972     Organic materials               2115  \n",
       "2          997.00  KYH28  Low carbon footprint               KY25  \n",
       "3          400.00  GUP97               Reegrow               GU16  \n",
       "4            1.00  DBI07           Recycleable                DB7  \n",
       "5            1.00  GVT47                 Vegan               GV13  \n",
       "6            1.00  FTS61        Not Applicable                FT5  \n",
       "7          689.00  FCF74                 Vegan                FC0  \n",
       "8          300.00  DBG98               Reegrow               DB18  \n",
       "9            1.00  AQT17       Primeblue nylon               AQ11  "
      ]
     },
     "execution_count": 5,
     "metadata": {},
     "output_type": "execute_result"
    }
   ],
   "source": [
    "features = pd.read_csv(data / \"product_articles_attributes.csv\")\n",
    "\n",
    "features.head(10)"
   ]
  },
  {
   "cell_type": "code",
   "execution_count": 6,
   "metadata": {},
   "outputs": [
    {
     "data": {
      "text/plain": [
       "(60671, 8)"
      ]
     },
     "execution_count": 6,
     "metadata": {},
     "output_type": "execute_result"
    }
   ],
   "source": [
    "features.shape"
   ]
  },
  {
   "cell_type": "code",
   "execution_count": 7,
   "metadata": {},
   "outputs": [
    {
     "data": {
      "text/plain": [
       "Article                   object\n",
       "MATERIAL_CONTENT_CODE     object\n",
       "PRODUCT_TYPES            float64\n",
       "BUSINESS_SEGMENTS        float64\n",
       "NRF_COLOR_CODE           float64\n",
       "MODEL                     object\n",
       "Sustainablity             object\n",
       "MARKETING_CATEGORY        object\n",
       "dtype: object"
      ]
     },
     "execution_count": 7,
     "metadata": {},
     "output_type": "execute_result"
    }
   ],
   "source": [
    "features.dtypes"
   ]
  },
  {
   "cell_type": "markdown",
   "metadata": {},
   "source": [
    "## Fixing the dtypes of categorical features."
   ]
  },
  {
   "cell_type": "code",
   "execution_count": 8,
   "metadata": {},
   "outputs": [
    {
     "data": {
      "text/html": [
       "<div>\n",
       "<style scoped>\n",
       "    .dataframe tbody tr th:only-of-type {\n",
       "        vertical-align: middle;\n",
       "    }\n",
       "\n",
       "    .dataframe tbody tr th {\n",
       "        vertical-align: top;\n",
       "    }\n",
       "\n",
       "    .dataframe thead th {\n",
       "        text-align: right;\n",
       "    }\n",
       "</style>\n",
       "<table border=\"1\" class=\"dataframe\">\n",
       "  <thead>\n",
       "    <tr style=\"text-align: right;\">\n",
       "      <th></th>\n",
       "      <th>Article</th>\n",
       "      <th>MATERIAL_CONTENT_CODE</th>\n",
       "      <th>PRODUCT_TYPES</th>\n",
       "      <th>BUSINESS_SEGMENTS</th>\n",
       "      <th>NRF_COLOR_CODE</th>\n",
       "      <th>MODEL</th>\n",
       "      <th>Sustainablity</th>\n",
       "      <th>MARKETING_CATEGORY</th>\n",
       "    </tr>\n",
       "  </thead>\n",
       "  <tbody>\n",
       "    <tr>\n",
       "      <th>count</th>\n",
       "      <td>60671</td>\n",
       "      <td>60665</td>\n",
       "      <td>60667.00</td>\n",
       "      <td>60667.00</td>\n",
       "      <td>60646.00</td>\n",
       "      <td>60670</td>\n",
       "      <td>60671</td>\n",
       "      <td>60671</td>\n",
       "    </tr>\n",
       "    <tr>\n",
       "      <th>unique</th>\n",
       "      <td>60671</td>\n",
       "      <td>435</td>\n",
       "      <td>153.00</td>\n",
       "      <td>85.00</td>\n",
       "      <td>257.00</td>\n",
       "      <td>14098</td>\n",
       "      <td>10</td>\n",
       "      <td>5475</td>\n",
       "    </tr>\n",
       "    <tr>\n",
       "      <th>top</th>\n",
       "      <td>A1</td>\n",
       "      <td>AT2E</td>\n",
       "      <td>1.00</td>\n",
       "      <td>3030975.00</td>\n",
       "      <td>1.00</td>\n",
       "      <td>DVF21</td>\n",
       "      <td>Primeblue nylon</td>\n",
       "      <td>GV12</td>\n",
       "    </tr>\n",
       "    <tr>\n",
       "      <th>freq</th>\n",
       "      <td>1</td>\n",
       "      <td>12861</td>\n",
       "      <td>23490.00</td>\n",
       "      <td>5759.00</td>\n",
       "      <td>21165.00</td>\n",
       "      <td>222</td>\n",
       "      <td>6136</td>\n",
       "      <td>121</td>\n",
       "    </tr>\n",
       "  </tbody>\n",
       "</table>\n",
       "</div>"
      ],
      "text/plain": [
       "       Article MATERIAL_CONTENT_CODE  PRODUCT_TYPES  BUSINESS_SEGMENTS  \\\n",
       "count    60671                 60665       60667.00           60667.00   \n",
       "unique   60671                   435         153.00              85.00   \n",
       "top         A1                  AT2E           1.00         3030975.00   \n",
       "freq         1                 12861       23490.00            5759.00   \n",
       "\n",
       "        NRF_COLOR_CODE  MODEL    Sustainablity MARKETING_CATEGORY  \n",
       "count         60646.00  60670            60671              60671  \n",
       "unique          257.00  14098               10               5475  \n",
       "top               1.00  DVF21  Primeblue nylon               GV12  \n",
       "freq          21165.00    222             6136                121  "
      ]
     },
     "execution_count": 8,
     "metadata": {},
     "output_type": "execute_result"
    }
   ],
   "source": [
    "# Article and model are not going to be used in the analysis further so skipping them.\n",
    "for col in [\n",
    "    \"MATERIAL_CONTENT_CODE\",\n",
    "    \"PRODUCT_TYPES\",\n",
    "    \"BUSINESS_SEGMENTS\",\n",
    "    \"NRF_COLOR_CODE\",\n",
    "    \"Sustainablity\",\n",
    "    \"MARKETING_CATEGORY\",\n",
    "]:\n",
    "    features[col] = features[col].astype(\"category\")\n",
    "\n",
    "features.describe()"
   ]
  },
  {
   "cell_type": "markdown",
   "metadata": {},
   "source": [
    "High cardinality is going to be a challenge in modeling."
   ]
  },
  {
   "cell_type": "code",
   "execution_count": 9,
   "metadata": {},
   "outputs": [
    {
     "data": {
      "text/plain": [
       "Article                   0\n",
       "MATERIAL_CONTENT_CODE     6\n",
       "PRODUCT_TYPES             4\n",
       "BUSINESS_SEGMENTS         4\n",
       "NRF_COLOR_CODE           25\n",
       "MODEL                     1\n",
       "Sustainablity             0\n",
       "MARKETING_CATEGORY        0\n",
       "dtype: int64"
      ]
     },
     "execution_count": 9,
     "metadata": {},
     "output_type": "execute_result"
    }
   ],
   "source": [
    "# Check missing values\n",
    "features.isnull().sum()"
   ]
  },
  {
   "cell_type": "markdown",
   "metadata": {},
   "source": [
    "We will deal with these missing values after merging all the input dataframes together."
   ]
  },
  {
   "cell_type": "markdown",
   "metadata": {},
   "source": [
    "# 2 - Read historical unit sales data"
   ]
  },
  {
   "cell_type": "code",
   "execution_count": 10,
   "metadata": {},
   "outputs": [
    {
     "data": {
      "text/html": [
       "<div>\n",
       "<style scoped>\n",
       "    .dataframe tbody tr th:only-of-type {\n",
       "        vertical-align: middle;\n",
       "    }\n",
       "\n",
       "    .dataframe tbody tr th {\n",
       "        vertical-align: top;\n",
       "    }\n",
       "\n",
       "    .dataframe thead th {\n",
       "        text-align: right;\n",
       "    }\n",
       "</style>\n",
       "<table border=\"1\" class=\"dataframe\">\n",
       "  <thead>\n",
       "    <tr style=\"text-align: right;\">\n",
       "      <th></th>\n",
       "      <th>Article</th>\n",
       "      <th>Units_sold</th>\n",
       "    </tr>\n",
       "  </thead>\n",
       "  <tbody>\n",
       "    <tr>\n",
       "      <th>0</th>\n",
       "      <td>J10</td>\n",
       "      <td>12</td>\n",
       "    </tr>\n",
       "    <tr>\n",
       "      <th>1</th>\n",
       "      <td>U21</td>\n",
       "      <td>12</td>\n",
       "    </tr>\n",
       "    <tr>\n",
       "      <th>2</th>\n",
       "      <td>E31</td>\n",
       "      <td>12</td>\n",
       "    </tr>\n",
       "    <tr>\n",
       "      <th>3</th>\n",
       "      <td>P42</td>\n",
       "      <td>12</td>\n",
       "    </tr>\n",
       "    <tr>\n",
       "      <th>4</th>\n",
       "      <td>C55</td>\n",
       "      <td>12</td>\n",
       "    </tr>\n",
       "    <tr>\n",
       "      <th>5</th>\n",
       "      <td>Q69</td>\n",
       "      <td>12</td>\n",
       "    </tr>\n",
       "    <tr>\n",
       "      <th>6</th>\n",
       "      <td>S71</td>\n",
       "      <td>12</td>\n",
       "    </tr>\n",
       "    <tr>\n",
       "      <th>7</th>\n",
       "      <td>W75</td>\n",
       "      <td>12</td>\n",
       "    </tr>\n",
       "    <tr>\n",
       "      <th>8</th>\n",
       "      <td>R96</td>\n",
       "      <td>12</td>\n",
       "    </tr>\n",
       "    <tr>\n",
       "      <th>9</th>\n",
       "      <td>U99</td>\n",
       "      <td>12</td>\n",
       "    </tr>\n",
       "  </tbody>\n",
       "</table>\n",
       "</div>"
      ],
      "text/plain": [
       "  Article  Units_sold\n",
       "0     J10          12\n",
       "1     U21          12\n",
       "2     E31          12\n",
       "3     P42          12\n",
       "4     C55          12\n",
       "5     Q69          12\n",
       "6     S71          12\n",
       "7     W75          12\n",
       "8     R96          12\n",
       "9     U99          12"
      ]
     },
     "execution_count": 10,
     "metadata": {},
     "output_type": "execute_result"
    }
   ],
   "source": [
    "units = pd.read_csv(data / \"historical_unit_sales.csv\")\n",
    "\n",
    "units.head(10)"
   ]
  },
  {
   "cell_type": "code",
   "execution_count": 11,
   "metadata": {},
   "outputs": [
    {
     "data": {
      "text/plain": [
       "(60675, 2)"
      ]
     },
     "execution_count": 11,
     "metadata": {},
     "output_type": "execute_result"
    }
   ],
   "source": [
    "units.shape"
   ]
  },
  {
   "cell_type": "code",
   "execution_count": 12,
   "metadata": {},
   "outputs": [
    {
     "data": {
      "text/plain": [
       "<AxesSubplot:xlabel='Units_sold'>"
      ]
     },
     "execution_count": 12,
     "metadata": {},
     "output_type": "execute_result"
    },
    {
     "data": {
      "image/png": "[encoded data removed]",
      "text/plain": [
       "<Figure size 432x288 with 1 Axes>"
      ]
     },
     "metadata": {
      "needs_background": "light"
     },
     "output_type": "display_data"
    }
   ],
   "source": [
    "sns.boxplot(data=units, x=\"Units_sold\")"
   ]
  },
  {
   "cell_type": "markdown",
   "metadata": {},
   "source": [
    "We will deal with these outliers after merging all the input dataframes together."
   ]
  },
  {
   "cell_type": "markdown",
   "metadata": {},
   "source": [
    "# 3 - Reading the product popularity data that has 2 more KPIs per article"
   ]
  },
  {
   "cell_type": "code",
   "execution_count": 13,
   "metadata": {},
   "outputs": [
    {
     "data": {
      "text/html": [
       "<div>\n",
       "<style scoped>\n",
       "    .dataframe tbody tr th:only-of-type {\n",
       "        vertical-align: middle;\n",
       "    }\n",
       "\n",
       "    .dataframe tbody tr th {\n",
       "        vertical-align: top;\n",
       "    }\n",
       "\n",
       "    .dataframe thead th {\n",
       "        text-align: right;\n",
       "    }\n",
       "</style>\n",
       "<table border=\"1\" class=\"dataframe\">\n",
       "  <thead>\n",
       "    <tr style=\"text-align: right;\">\n",
       "      <th></th>\n",
       "      <th>Article</th>\n",
       "      <th>Searches</th>\n",
       "      <th>Social_References</th>\n",
       "    </tr>\n",
       "  </thead>\n",
       "  <tbody>\n",
       "    <tr>\n",
       "      <th>0</th>\n",
       "      <td>A1</td>\n",
       "      <td>193</td>\n",
       "      <td>97</td>\n",
       "    </tr>\n",
       "    <tr>\n",
       "      <th>1</th>\n",
       "      <td>B2</td>\n",
       "      <td>70</td>\n",
       "      <td>53</td>\n",
       "    </tr>\n",
       "    <tr>\n",
       "      <th>2</th>\n",
       "      <td>C3</td>\n",
       "      <td>211</td>\n",
       "      <td>53</td>\n",
       "    </tr>\n",
       "    <tr>\n",
       "      <th>3</th>\n",
       "      <td>D4</td>\n",
       "      <td>45</td>\n",
       "      <td>23</td>\n",
       "    </tr>\n",
       "    <tr>\n",
       "      <th>4</th>\n",
       "      <td>E5</td>\n",
       "      <td>183</td>\n",
       "      <td>137</td>\n",
       "    </tr>\n",
       "    <tr>\n",
       "      <th>5</th>\n",
       "      <td>F6</td>\n",
       "      <td>83</td>\n",
       "      <td>42</td>\n",
       "    </tr>\n",
       "    <tr>\n",
       "      <th>6</th>\n",
       "      <td>G7</td>\n",
       "      <td>220</td>\n",
       "      <td>55</td>\n",
       "    </tr>\n",
       "    <tr>\n",
       "      <th>7</th>\n",
       "      <td>H8</td>\n",
       "      <td>72</td>\n",
       "      <td>18</td>\n",
       "    </tr>\n",
       "    <tr>\n",
       "      <th>8</th>\n",
       "      <td>I9</td>\n",
       "      <td>211</td>\n",
       "      <td>53</td>\n",
       "    </tr>\n",
       "    <tr>\n",
       "      <th>9</th>\n",
       "      <td>J10</td>\n",
       "      <td>24</td>\n",
       "      <td>18</td>\n",
       "    </tr>\n",
       "  </tbody>\n",
       "</table>\n",
       "</div>"
      ],
      "text/plain": [
       "  Article  Searches  Social_References\n",
       "0      A1       193                 97\n",
       "1      B2        70                 53\n",
       "2      C3       211                 53\n",
       "3      D4        45                 23\n",
       "4      E5       183                137\n",
       "5      F6        83                 42\n",
       "6      G7       220                 55\n",
       "7      H8        72                 18\n",
       "8      I9       211                 53\n",
       "9     J10        24                 18"
      ]
     },
     "execution_count": 13,
     "metadata": {},
     "output_type": "execute_result"
    }
   ],
   "source": [
    "popularity = pd.read_csv(data / \"historical_product_popularity.csv\")\n",
    "\n",
    "popularity.head(10)"
   ]
  },
  {
   "cell_type": "code",
   "execution_count": 14,
   "metadata": {},
   "outputs": [
    {
     "data": {
      "text/plain": [
       "(60675, 3)"
      ]
     },
     "execution_count": 14,
     "metadata": {},
     "output_type": "execute_result"
    }
   ],
   "source": [
    "popularity.shape"
   ]
  },
  {
   "cell_type": "code",
   "execution_count": 15,
   "metadata": {},
   "outputs": [
    {
     "data": {
      "text/plain": [
       "<AxesSubplot:xlabel='Searches'>"
      ]
     },
     "execution_count": 15,
     "metadata": {},
     "output_type": "execute_result"
    },
    {
     "data": {
      "image/png": "[encoded data removed]",
      "text/plain": [
       "<Figure size 432x288 with 1 Axes>"
      ]
     },
     "metadata": {
      "needs_background": "light"
     },
     "output_type": "display_data"
    }
   ],
   "source": [
    "sns.boxplot(data=popularity, x=\"Searches\")"
   ]
  },
  {
   "cell_type": "code",
   "execution_count": 16,
   "metadata": {},
   "outputs": [
    {
     "data": {
      "text/plain": [
       "<AxesSubplot:xlabel='Social_References'>"
      ]
     },
     "execution_count": 16,
     "metadata": {},
     "output_type": "execute_result"
    },
    {
     "data": {
      "image/png": "[encoded data removed]",
      "text/plain": [
       "<Figure size 432x288 with 1 Axes>"
      ]
     },
     "metadata": {
      "needs_background": "light"
     },
     "output_type": "display_data"
    }
   ],
   "source": [
    "sns.boxplot(data=popularity, x=\"Social_References\")"
   ]
  },
  {
   "cell_type": "markdown",
   "metadata": {},
   "source": [
    "# Merging the 3 input dataframes together"
   ]
  },
  {
   "cell_type": "code",
   "execution_count": 17,
   "metadata": {},
   "outputs": [
    {
     "data": {
      "text/html": [
       "<div>\n",
       "<style scoped>\n",
       "    .dataframe tbody tr th:only-of-type {\n",
       "        vertical-align: middle;\n",
       "    }\n",
       "\n",
       "    .dataframe tbody tr th {\n",
       "        vertical-align: top;\n",
       "    }\n",
       "\n",
       "    .dataframe thead th {\n",
       "        text-align: right;\n",
       "    }\n",
       "</style>\n",
       "<table border=\"1\" class=\"dataframe\">\n",
       "  <thead>\n",
       "    <tr style=\"text-align: right;\">\n",
       "      <th></th>\n",
       "      <th>Article</th>\n",
       "      <th>MATERIAL_CONTENT_CODE</th>\n",
       "      <th>PRODUCT_TYPES</th>\n",
       "      <th>BUSINESS_SEGMENTS</th>\n",
       "      <th>NRF_COLOR_CODE</th>\n",
       "      <th>MODEL</th>\n",
       "      <th>Sustainablity</th>\n",
       "      <th>MARKETING_CATEGORY</th>\n",
       "      <th>Units_sold</th>\n",
       "    </tr>\n",
       "  </thead>\n",
       "  <tbody>\n",
       "    <tr>\n",
       "      <th>0</th>\n",
       "      <td>A1</td>\n",
       "      <td>TRFU</td>\n",
       "      <td>44.00</td>\n",
       "      <td>97528.00</td>\n",
       "      <td>1.00</td>\n",
       "      <td>GKD49</td>\n",
       "      <td>Organic materials</td>\n",
       "      <td>GK6</td>\n",
       "      <td>84</td>\n",
       "    </tr>\n",
       "    <tr>\n",
       "      <th>1</th>\n",
       "      <td>B2</td>\n",
       "      <td>AT2E</td>\n",
       "      <td>1.00</td>\n",
       "      <td>3030975.00</td>\n",
       "      <td>1.00</td>\n",
       "      <td>21972</td>\n",
       "      <td>Organic materials</td>\n",
       "      <td>2115</td>\n",
       "      <td>36</td>\n",
       "    </tr>\n",
       "    <tr>\n",
       "      <th>2</th>\n",
       "      <td>C3</td>\n",
       "      <td>TREU</td>\n",
       "      <td>39.00</td>\n",
       "      <td>303034.00</td>\n",
       "      <td>997.00</td>\n",
       "      <td>KYH28</td>\n",
       "      <td>Low carbon footprint</td>\n",
       "      <td>KY25</td>\n",
       "      <td>120</td>\n",
       "    </tr>\n",
       "    <tr>\n",
       "      <th>3</th>\n",
       "      <td>D4</td>\n",
       "      <td>TRK4</td>\n",
       "      <td>51.00</td>\n",
       "      <td>30305.00</td>\n",
       "      <td>400.00</td>\n",
       "      <td>GUP97</td>\n",
       "      <td>Reegrow</td>\n",
       "      <td>GU16</td>\n",
       "      <td>24</td>\n",
       "    </tr>\n",
       "    <tr>\n",
       "      <th>4</th>\n",
       "      <td>E5</td>\n",
       "      <td>TRK4</td>\n",
       "      <td>19.00</td>\n",
       "      <td>886.00</td>\n",
       "      <td>1.00</td>\n",
       "      <td>DBI07</td>\n",
       "      <td>Recycleable</td>\n",
       "      <td>DB7</td>\n",
       "      <td>96</td>\n",
       "    </tr>\n",
       "  </tbody>\n",
       "</table>\n",
       "</div>"
      ],
      "text/plain": [
       "  Article MATERIAL_CONTENT_CODE PRODUCT_TYPES BUSINESS_SEGMENTS  \\\n",
       "0      A1                  TRFU         44.00          97528.00   \n",
       "1      B2                  AT2E          1.00        3030975.00   \n",
       "2      C3                  TREU         39.00         303034.00   \n",
       "3      D4                  TRK4         51.00          30305.00   \n",
       "4      E5                  TRK4         19.00            886.00   \n",
       "\n",
       "  NRF_COLOR_CODE  MODEL         Sustainablity MARKETING_CATEGORY  Units_sold  \n",
       "0           1.00  GKD49     Organic materials                GK6          84  \n",
       "1           1.00  21972     Organic materials               2115          36  \n",
       "2         997.00  KYH28  Low carbon footprint               KY25         120  \n",
       "3         400.00  GUP97               Reegrow               GU16          24  \n",
       "4           1.00  DBI07           Recycleable                DB7          96  "
      ]
     },
     "execution_count": 17,
     "metadata": {},
     "output_type": "execute_result"
    }
   ],
   "source": [
    "df = features.merge(units, how=\"left\", on=\"Article\")\n",
    "\n",
    "assert df.shape[0] == features.shape[0]\n",
    "df.head()"
   ]
  },
  {
   "cell_type": "code",
   "execution_count": 18,
   "metadata": {},
   "outputs": [
    {
     "data": {
      "text/html": [
       "<div>\n",
       "<style scoped>\n",
       "    .dataframe tbody tr th:only-of-type {\n",
       "        vertical-align: middle;\n",
       "    }\n",
       "\n",
       "    .dataframe tbody tr th {\n",
       "        vertical-align: top;\n",
       "    }\n",
       "\n",
       "    .dataframe thead th {\n",
       "        text-align: right;\n",
       "    }\n",
       "</style>\n",
       "<table border=\"1\" class=\"dataframe\">\n",
       "  <thead>\n",
       "    <tr style=\"text-align: right;\">\n",
       "      <th></th>\n",
       "      <th>Article</th>\n",
       "      <th>MATERIAL_CONTENT_CODE</th>\n",
       "      <th>PRODUCT_TYPES</th>\n",
       "      <th>BUSINESS_SEGMENTS</th>\n",
       "      <th>NRF_COLOR_CODE</th>\n",
       "      <th>MODEL</th>\n",
       "      <th>Sustainablity</th>\n",
       "      <th>MARKETING_CATEGORY</th>\n",
       "      <th>Units_sold</th>\n",
       "      <th>Searches</th>\n",
       "      <th>Social_References</th>\n",
       "    </tr>\n",
       "  </thead>\n",
       "  <tbody>\n",
       "    <tr>\n",
       "      <th>0</th>\n",
       "      <td>A1</td>\n",
       "      <td>TRFU</td>\n",
       "      <td>44.00</td>\n",
       "      <td>97528.00</td>\n",
       "      <td>1.00</td>\n",
       "      <td>GKD49</td>\n",
       "      <td>Organic materials</td>\n",
       "      <td>GK6</td>\n",
       "      <td>84</td>\n",
       "      <td>193</td>\n",
       "      <td>97</td>\n",
       "    </tr>\n",
       "    <tr>\n",
       "      <th>1</th>\n",
       "      <td>B2</td>\n",
       "      <td>AT2E</td>\n",
       "      <td>1.00</td>\n",
       "      <td>3030975.00</td>\n",
       "      <td>1.00</td>\n",
       "      <td>21972</td>\n",
       "      <td>Organic materials</td>\n",
       "      <td>2115</td>\n",
       "      <td>36</td>\n",
       "      <td>70</td>\n",
       "      <td>53</td>\n",
       "    </tr>\n",
       "    <tr>\n",
       "      <th>2</th>\n",
       "      <td>C3</td>\n",
       "      <td>TREU</td>\n",
       "      <td>39.00</td>\n",
       "      <td>303034.00</td>\n",
       "      <td>997.00</td>\n",
       "      <td>KYH28</td>\n",
       "      <td>Low carbon footprint</td>\n",
       "      <td>KY25</td>\n",
       "      <td>120</td>\n",
       "      <td>211</td>\n",
       "      <td>53</td>\n",
       "    </tr>\n",
       "    <tr>\n",
       "      <th>3</th>\n",
       "      <td>D4</td>\n",
       "      <td>TRK4</td>\n",
       "      <td>51.00</td>\n",
       "      <td>30305.00</td>\n",
       "      <td>400.00</td>\n",
       "      <td>GUP97</td>\n",
       "      <td>Reegrow</td>\n",
       "      <td>GU16</td>\n",
       "      <td>24</td>\n",
       "      <td>45</td>\n",
       "      <td>23</td>\n",
       "    </tr>\n",
       "    <tr>\n",
       "      <th>4</th>\n",
       "      <td>E5</td>\n",
       "      <td>TRK4</td>\n",
       "      <td>19.00</td>\n",
       "      <td>886.00</td>\n",
       "      <td>1.00</td>\n",
       "      <td>DBI07</td>\n",
       "      <td>Recycleable</td>\n",
       "      <td>DB7</td>\n",
       "      <td>96</td>\n",
       "      <td>183</td>\n",
       "      <td>137</td>\n",
       "    </tr>\n",
       "  </tbody>\n",
       "</table>\n",
       "</div>"
      ],
      "text/plain": [
       "  Article MATERIAL_CONTENT_CODE PRODUCT_TYPES BUSINESS_SEGMENTS  \\\n",
       "0      A1                  TRFU         44.00          97528.00   \n",
       "1      B2                  AT2E          1.00        3030975.00   \n",
       "2      C3                  TREU         39.00         303034.00   \n",
       "3      D4                  TRK4         51.00          30305.00   \n",
       "4      E5                  TRK4         19.00            886.00   \n",
       "\n",
       "  NRF_COLOR_CODE  MODEL         Sustainablity MARKETING_CATEGORY  Units_sold  \\\n",
       "0           1.00  GKD49     Organic materials                GK6          84   \n",
       "1           1.00  21972     Organic materials               2115          36   \n",
       "2         997.00  KYH28  Low carbon footprint               KY25         120   \n",
       "3         400.00  GUP97               Reegrow               GU16          24   \n",
       "4           1.00  DBI07           Recycleable                DB7          96   \n",
       "\n",
       "   Searches  Social_References  \n",
       "0       193                 97  \n",
       "1        70                 53  \n",
       "2       211                 53  \n",
       "3        45                 23  \n",
       "4       183                137  "
      ]
     },
     "execution_count": 18,
     "metadata": {},
     "output_type": "execute_result"
    }
   ],
   "source": [
    "df = df.merge(popularity, how=\"left\", on=\"Article\")\n",
    "\n",
    "assert df.shape[0] == features.shape[0]\n",
    "df.head()"
   ]
  },
  {
   "cell_type": "code",
   "execution_count": 19,
   "metadata": {},
   "outputs": [
    {
     "data": {
      "text/plain": [
       "(60671, 11)"
      ]
     },
     "execution_count": 19,
     "metadata": {},
     "output_type": "execute_result"
    }
   ],
   "source": [
    "df.shape"
   ]
  },
  {
   "cell_type": "markdown",
   "metadata": {},
   "source": [
    "# Data cleansing"
   ]
  },
  {
   "cell_type": "code",
   "execution_count": 20,
   "metadata": {},
   "outputs": [
    {
     "data": {
      "text/plain": [
       "Article                    object\n",
       "MATERIAL_CONTENT_CODE    category\n",
       "PRODUCT_TYPES            category\n",
       "BUSINESS_SEGMENTS        category\n",
       "NRF_COLOR_CODE           category\n",
       "MODEL                      object\n",
       "Sustainablity            category\n",
       "MARKETING_CATEGORY       category\n",
       "Units_sold                  int64\n",
       "Searches                    int64\n",
       "Social_References           int64\n",
       "dtype: object"
      ]
     },
     "execution_count": 20,
     "metadata": {},
     "output_type": "execute_result"
    }
   ],
   "source": [
    "# Double-checking if the dtypes look ok\n",
    "df.dtypes"
   ]
  },
  {
   "cell_type": "markdown",
   "metadata": {},
   "source": [
    "## Missing values check"
   ]
  },
  {
   "cell_type": "code",
   "execution_count": 21,
   "metadata": {},
   "outputs": [
    {
     "data": {
      "text/plain": [
       "Article                   0\n",
       "MATERIAL_CONTENT_CODE     6\n",
       "PRODUCT_TYPES             4\n",
       "BUSINESS_SEGMENTS         4\n",
       "NRF_COLOR_CODE           25\n",
       "MODEL                     1\n",
       "Sustainablity             0\n",
       "MARKETING_CATEGORY        0\n",
       "Units_sold                0\n",
       "Searches                  0\n",
       "Social_References         0\n",
       "dtype: int64"
      ]
     },
     "execution_count": 21,
     "metadata": {},
     "output_type": "execute_result"
    }
   ],
   "source": [
    "# Checking missing values again\n",
    "df.isna().sum()"
   ]
  },
  {
   "cell_type": "code",
   "execution_count": 22,
   "metadata": {},
   "outputs": [
    {
     "data": {
      "text/plain": [
       "Article                  0\n",
       "MATERIAL_CONTENT_CODE    0\n",
       "PRODUCT_TYPES            0\n",
       "BUSINESS_SEGMENTS        0\n",
       "NRF_COLOR_CODE           0\n",
       "MODEL                    1\n",
       "Sustainablity            0\n",
       "MARKETING_CATEGORY       0\n",
       "Units_sold               0\n",
       "Searches                 0\n",
       "Social_References        0\n",
       "dtype: int64"
      ]
     },
     "execution_count": 22,
     "metadata": {},
     "output_type": "execute_result"
    }
   ],
   "source": [
    "# We can afford to delete these missing values for now\n",
    "df = df[~df.NRF_COLOR_CODE.isna()]\n",
    "df = df[~df.MATERIAL_CONTENT_CODE.isna()]\n",
    "\n",
    "df.isna().sum()"
   ]
  },
  {
   "cell_type": "markdown",
   "metadata": {},
   "source": [
    "## Duplicates check"
   ]
  },
  {
   "cell_type": "code",
   "execution_count": 23,
   "metadata": {},
   "outputs": [
    {
     "data": {
      "text/plain": [
       "(60644, 11)"
      ]
     },
     "execution_count": 23,
     "metadata": {},
     "output_type": "execute_result"
    }
   ],
   "source": [
    "# Checking for any duplicate rows\n",
    "df.drop_duplicates(keep=\"first\", inplace=True)\n",
    "df.shape"
   ]
  },
  {
   "cell_type": "code",
   "execution_count": 24,
   "metadata": {},
   "outputs": [],
   "source": [
    "del features, units, popularity"
   ]
  },
  {
   "cell_type": "markdown",
   "metadata": {},
   "source": [
    "## Outlier removal on target feature"
   ]
  },
  {
   "cell_type": "code",
   "execution_count": 25,
   "metadata": {},
   "outputs": [
    {
     "data": {
      "text/plain": [
       "<AxesSubplot:xlabel='Units_sold'>"
      ]
     },
     "execution_count": 25,
     "metadata": {},
     "output_type": "execute_result"
    },
    {
     "data": {
      "image/png": "[encoded data removed]",
      "text/plain": [
       "<Figure size 432x288 with 1 Axes>"
      ]
     },
     "metadata": {
      "needs_background": "light"
     },
     "output_type": "display_data"
    }
   ],
   "source": [
    "sns.boxplot(data=df, x=\"Units_sold\")"
   ]
  },
  {
   "cell_type": "code",
   "execution_count": 26,
   "metadata": {},
   "outputs": [
    {
     "data": {
      "image/png": "[encoded data removed]",
      "text/plain": [
       "<Figure size 432x288 with 1 Axes>"
      ]
     },
     "metadata": {
      "needs_background": "light"
     },
     "output_type": "display_data"
    }
   ],
   "source": [
    "# Only Sustainablity feature has low cardinality. So for now, let us check if outlier distribution looks different across different values of Sustainablity\n",
    "col = \"Sustainablity\"\n",
    "sns.boxplot(data=df, x=col, y=\"Units_sold\")\n",
    "plt.xticks(rotation=90)\n",
    "plt.show()"
   ]
  },
  {
   "cell_type": "code",
   "execution_count": 27,
   "metadata": {},
   "outputs": [
    {
     "name": "stdout",
     "output_type": "stream",
     "text": [
      "The % of outliers in the data is 0.56%. This is at threshold of 216.0 \n"
     ]
    }
   ],
   "source": [
    "# Check the count of outliers\n",
    "\n",
    "Q1 = df[\"Units_sold\"].quantile(0.25)\n",
    "Q3 = df[\"Units_sold\"].quantile(0.75)\n",
    "IQR = Q3 - Q1\n",
    "\n",
    "threshold = Q3 + 1.5 * IQR\n",
    "\n",
    "outlier_count = (\n",
    "    df[\"Article\"][df[\"Units_sold\"] > (Q3 + 1.5 * IQR)].count() / df[\"Article\"].count()\n",
    ")\n",
    "\n",
    "print(\n",
    "    f\"The % of outliers in the data is {outlier_count:.2%}. This is at threshold of {threshold} \"\n",
    ")\n",
    "# df_final=df[~(df['Units_sold']>(Q3+1.5*IQR)))]"
   ]
  },
  {
   "cell_type": "code",
   "execution_count": 28,
   "metadata": {},
   "outputs": [
    {
     "name": "stdout",
     "output_type": "stream",
     "text": [
      "356 rows removed\n"
     ]
    }
   ],
   "source": [
    "# It makes sense to just remove these outliers for now\n",
    "df_final = df[df.Units_sold < threshold]\n",
    "df_final.shape\n",
    "print(f\"{df.shape[0]-df_final.shape[0]} rows removed\")"
   ]
  },
  {
   "cell_type": "code",
   "execution_count": 29,
   "metadata": {},
   "outputs": [],
   "source": [
    "output_path = data / \"01_raw\" / \"src.csv\"\n",
    "df_final.to_parquet(output_path, index=None)"
   ]
  }
 ],
 "metadata": {
  "kernelspec": {
   "display_name": "Python 3 (ipykernel)",
   "language": "python",
   "name": "python3"
  },
  "language_info": {
   "codemirror_mode": {
    "name": "ipython",
    "version": 3
   },
   "file_extension": ".py",
   "mimetype": "text/x-python",
   "name": "python",
   "nbconvert_exporter": "python",
   "pygments_lexer": "ipython3",
   "version": "3.8.12"
  }
 },
 "nbformat": 4,
 "nbformat_minor": 4
}
