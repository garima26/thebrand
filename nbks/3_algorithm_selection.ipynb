{
 "cells": [
  {
   "cell_type": "code",
   "execution_count": 2,
   "metadata": {},
   "outputs": [],
   "source": [
    "%load_ext lab_black\n",
    "%load_ext autoreload\n",
    "%autoreload 2"
   ]
  },
  {
   "cell_type": "code",
   "execution_count": 3,
   "metadata": {},
   "outputs": [
    {
     "name": "stdout",
     "output_type": "stream",
     "text": [
      "/Users/gjain/Documents/xom\n"
     ]
    }
   ],
   "source": [
    "%cd /Users/gjain/Documents/xom"
   ]
  },
  {
   "cell_type": "markdown",
   "metadata": {},
   "source": [
    "# Project objective: Average house price (WOZ) prediction for an area in Amsterdam"
   ]
  },
  {
   "cell_type": "code",
   "execution_count": 22,
   "metadata": {},
   "outputs": [],
   "source": [
    "import pandas as pd\n",
    "import numpy as np\n",
    "from pathlib import Path\n",
    "import pickle\n",
    "import matplotlib.pyplot as plt\n",
    "\n",
    "%matplotlib inline\n",
    "import seaborn as sns\n",
    "from sklearn.model_selection import train_test_split\n",
    "\n",
    "from sklearn.linear_model import Ridge\n",
    "from sklearn.ensemble import RandomForestRegressor, GradientBoostingRegressor\n",
    "\n",
    "from category_encoders.ordinal import OrdinalEncoder\n",
    "from sklearn.metrics import mean_absolute_error, mean_absolute_percentage_error\n",
    "\n",
    "from src.utils.constants import TARGET"
   ]
  },
  {
   "cell_type": "code",
   "execution_count": 5,
   "metadata": {},
   "outputs": [],
   "source": [
    "pd.options.display.float_format = \"{:.4f}\".format\n",
    "pd.set_option(\"display.max_columns\", 99)\n",
    "pd.set_option(\"display.max_rows\", 99)\n",
    "pd.set_option(\"display.max_colwidth\", 199)"
   ]
  },
  {
   "cell_type": "code",
   "execution_count": 6,
   "metadata": {},
   "outputs": [],
   "source": [
    "base_dir = Path(\"/Users/gjain/Documents/xom\")\n",
    "data = base_dir / \"data\""
   ]
  },
  {
   "cell_type": "markdown",
   "metadata": {},
   "source": [
    "# Read in training data"
   ]
  },
  {
   "cell_type": "code",
   "execution_count": 7,
   "metadata": {},
   "outputs": [
    {
     "data": {
      "text/html": [
       "<div>\n",
       "<style scoped>\n",
       "    .dataframe tbody tr th:only-of-type {\n",
       "        vertical-align: middle;\n",
       "    }\n",
       "\n",
       "    .dataframe tbody tr th {\n",
       "        vertical-align: top;\n",
       "    }\n",
       "\n",
       "    .dataframe thead th {\n",
       "        text-align: right;\n",
       "    }\n",
       "</style>\n",
       "<table border=\"1\" class=\"dataframe\">\n",
       "  <thead>\n",
       "    <tr style=\"text-align: right;\">\n",
       "      <th></th>\n",
       "      <th>area</th>\n",
       "      <th>single</th>\n",
       "      <th>married_no_kids</th>\n",
       "      <th>not_married_no_kids</th>\n",
       "      <th>married_with_kids</th>\n",
       "      <th>not_married_with_kids</th>\n",
       "      <th>single_parent</th>\n",
       "      <th>other</th>\n",
       "      <th>total</th>\n",
       "      <th>avg_woz</th>\n",
       "      <th>woz_per_msq</th>\n",
       "      <th>borough</th>\n",
       "      <th>perc_area_single</th>\n",
       "      <th>perc_area_married_no_kids</th>\n",
       "      <th>perc_area_not_married_no_kids</th>\n",
       "      <th>perc_area_married_with_kids</th>\n",
       "      <th>perc_area_not_married_with_kids</th>\n",
       "      <th>perc_area_single_parent</th>\n",
       "      <th>perc_area_other</th>\n",
       "      <th>perc_of_tot_fam_type_single</th>\n",
       "      <th>perc_of_tot_fam_type_married_no_kids</th>\n",
       "      <th>perc_of_tot_fam_type_not_married_no_kids</th>\n",
       "      <th>perc_of_tot_fam_type_married_with_kids</th>\n",
       "      <th>perc_of_tot_fam_type_not_married_with_kids</th>\n",
       "      <th>perc_of_tot_fam_type_single_parent</th>\n",
       "      <th>perc_of_tot_fam_type_other</th>\n",
       "      <th>area_has_buurt</th>\n",
       "      <th>area_has_burg</th>\n",
       "      <th>area_has_dijk</th>\n",
       "      <th>area_has_park</th>\n",
       "      <th>area_has_plein</th>\n",
       "      <th>area_has_nieuw</th>\n",
       "      <th>area_has_gracht</th>\n",
       "      <th>area_has_dorp</th>\n",
       "      <th>Highest_income_hhs</th>\n",
       "      <th>Touristy</th>\n",
       "      <th>Diversity</th>\n",
       "      <th>HasHomeStadium</th>\n",
       "      <th>IsPosh</th>\n",
       "    </tr>\n",
       "  </thead>\n",
       "  <tbody>\n",
       "    <tr>\n",
       "      <th>0</th>\n",
       "      <td>F82c Zuidwestkwadrant Osdorp Noord</td>\n",
       "      <td>616.0000</td>\n",
       "      <td>173.0000</td>\n",
       "      <td>129.0000</td>\n",
       "      <td>285.0000</td>\n",
       "      <td>54.0000</td>\n",
       "      <td>141.0000</td>\n",
       "      <td>37.0000</td>\n",
       "      <td>1435.0000</td>\n",
       "      <td>186984.0000</td>\n",
       "      <td>2106.0000</td>\n",
       "      <td>Neiuw-West</td>\n",
       "      <td>42.9268</td>\n",
       "      <td>12.0557</td>\n",
       "      <td>8.9895</td>\n",
       "      <td>19.8606</td>\n",
       "      <td>3.7631</td>\n",
       "      <td>9.8258</td>\n",
       "      <td>2.5784</td>\n",
       "      <td>0.2906</td>\n",
       "      <td>0.4728</td>\n",
       "      <td>0.2849</td>\n",
       "      <td>0.6160</td>\n",
       "      <td>0.2851</td>\n",
       "      <td>0.3898</td>\n",
       "      <td>0.6652</td>\n",
       "      <td>False</td>\n",
       "      <td>False</td>\n",
       "      <td>False</td>\n",
       "      <td>False</td>\n",
       "      <td>False</td>\n",
       "      <td>False</td>\n",
       "      <td>False</td>\n",
       "      <td>True</td>\n",
       "      <td>0</td>\n",
       "      <td>9</td>\n",
       "      <td>9</td>\n",
       "      <td>9</td>\n",
       "      <td>9</td>\n",
       "    </tr>\n",
       "    <tr>\n",
       "      <th>1</th>\n",
       "      <td>T97a Gein Noordwest</td>\n",
       "      <td>918.0000</td>\n",
       "      <td>75.0000</td>\n",
       "      <td>123.0000</td>\n",
       "      <td>103.0000</td>\n",
       "      <td>80.0000</td>\n",
       "      <td>308.0000</td>\n",
       "      <td>22.0000</td>\n",
       "      <td>1629.0000</td>\n",
       "      <td>127038.0000</td>\n",
       "      <td>1803.0000</td>\n",
       "      <td>Zuidoost</td>\n",
       "      <td>56.3536</td>\n",
       "      <td>4.6041</td>\n",
       "      <td>7.5506</td>\n",
       "      <td>6.3229</td>\n",
       "      <td>4.9110</td>\n",
       "      <td>18.9073</td>\n",
       "      <td>1.3505</td>\n",
       "      <td>0.4331</td>\n",
       "      <td>0.2050</td>\n",
       "      <td>0.2717</td>\n",
       "      <td>0.2226</td>\n",
       "      <td>0.4224</td>\n",
       "      <td>0.8516</td>\n",
       "      <td>0.3955</td>\n",
       "      <td>False</td>\n",
       "      <td>False</td>\n",
       "      <td>False</td>\n",
       "      <td>False</td>\n",
       "      <td>False</td>\n",
       "      <td>False</td>\n",
       "      <td>False</td>\n",
       "      <td>False</td>\n",
       "      <td>0</td>\n",
       "      <td>4</td>\n",
       "      <td>9</td>\n",
       "      <td>1</td>\n",
       "      <td>9</td>\n",
       "    </tr>\n",
       "    <tr>\n",
       "      <th>2</th>\n",
       "      <td>T94g K-buurt Zuidoost</td>\n",
       "      <td>129.0000</td>\n",
       "      <td>20.0000</td>\n",
       "      <td>35.0000</td>\n",
       "      <td>84.0000</td>\n",
       "      <td>41.0000</td>\n",
       "      <td>56.0000</td>\n",
       "      <td>8.0000</td>\n",
       "      <td>373.0000</td>\n",
       "      <td>203325.0000</td>\n",
       "      <td>1758.0000</td>\n",
       "      <td>Zuidoost</td>\n",
       "      <td>34.5844</td>\n",
       "      <td>5.3619</td>\n",
       "      <td>9.3834</td>\n",
       "      <td>22.5201</td>\n",
       "      <td>10.9920</td>\n",
       "      <td>15.0134</td>\n",
       "      <td>2.1448</td>\n",
       "      <td>0.0609</td>\n",
       "      <td>0.0547</td>\n",
       "      <td>0.0773</td>\n",
       "      <td>0.1816</td>\n",
       "      <td>0.2165</td>\n",
       "      <td>0.1548</td>\n",
       "      <td>0.1438</td>\n",
       "      <td>True</td>\n",
       "      <td>False</td>\n",
       "      <td>False</td>\n",
       "      <td>False</td>\n",
       "      <td>False</td>\n",
       "      <td>False</td>\n",
       "      <td>False</td>\n",
       "      <td>False</td>\n",
       "      <td>0</td>\n",
       "      <td>4</td>\n",
       "      <td>9</td>\n",
       "      <td>1</td>\n",
       "      <td>9</td>\n",
       "    </tr>\n",
       "    <tr>\n",
       "      <th>3</th>\n",
       "      <td>M31c Zuidwestkwadrant Indische Buurt</td>\n",
       "      <td>1038.0000</td>\n",
       "      <td>168.0000</td>\n",
       "      <td>195.0000</td>\n",
       "      <td>346.0000</td>\n",
       "      <td>69.0000</td>\n",
       "      <td>209.0000</td>\n",
       "      <td>25.0000</td>\n",
       "      <td>2050.0000</td>\n",
       "      <td>183293.0000</td>\n",
       "      <td>2600.0000</td>\n",
       "      <td>Oost</td>\n",
       "      <td>50.6341</td>\n",
       "      <td>8.1951</td>\n",
       "      <td>9.5122</td>\n",
       "      <td>16.8780</td>\n",
       "      <td>3.3659</td>\n",
       "      <td>10.1951</td>\n",
       "      <td>1.2195</td>\n",
       "      <td>0.4898</td>\n",
       "      <td>0.4591</td>\n",
       "      <td>0.4307</td>\n",
       "      <td>0.7478</td>\n",
       "      <td>0.3643</td>\n",
       "      <td>0.5778</td>\n",
       "      <td>0.4495</td>\n",
       "      <td>True</td>\n",
       "      <td>False</td>\n",
       "      <td>False</td>\n",
       "      <td>False</td>\n",
       "      <td>False</td>\n",
       "      <td>False</td>\n",
       "      <td>False</td>\n",
       "      <td>False</td>\n",
       "      <td>0</td>\n",
       "      <td>4</td>\n",
       "      <td>1</td>\n",
       "      <td>9</td>\n",
       "      <td>9</td>\n",
       "    </tr>\n",
       "    <tr>\n",
       "      <th>4</th>\n",
       "      <td>F88f Nieuw Sloten Noordoost</td>\n",
       "      <td>460.0000</td>\n",
       "      <td>313.0000</td>\n",
       "      <td>104.0000</td>\n",
       "      <td>304.0000</td>\n",
       "      <td>80.0000</td>\n",
       "      <td>127.0000</td>\n",
       "      <td>16.0000</td>\n",
       "      <td>1404.0000</td>\n",
       "      <td>248766.0000</td>\n",
       "      <td>2380.0000</td>\n",
       "      <td>Neiuw-West</td>\n",
       "      <td>32.7635</td>\n",
       "      <td>22.2934</td>\n",
       "      <td>7.4074</td>\n",
       "      <td>21.6524</td>\n",
       "      <td>5.6980</td>\n",
       "      <td>9.0456</td>\n",
       "      <td>1.1396</td>\n",
       "      <td>0.2170</td>\n",
       "      <td>0.8553</td>\n",
       "      <td>0.2297</td>\n",
       "      <td>0.6570</td>\n",
       "      <td>0.4224</td>\n",
       "      <td>0.3511</td>\n",
       "      <td>0.2877</td>\n",
       "      <td>False</td>\n",
       "      <td>False</td>\n",
       "      <td>False</td>\n",
       "      <td>False</td>\n",
       "      <td>False</td>\n",
       "      <td>True</td>\n",
       "      <td>False</td>\n",
       "      <td>False</td>\n",
       "      <td>0</td>\n",
       "      <td>9</td>\n",
       "      <td>9</td>\n",
       "      <td>9</td>\n",
       "      <td>9</td>\n",
       "    </tr>\n",
       "  </tbody>\n",
       "</table>\n",
       "</div>"
      ],
      "text/plain": [
       "                                   area    single  married_no_kids  \\\n",
       "0    F82c Zuidwestkwadrant Osdorp Noord  616.0000         173.0000   \n",
       "1                   T97a Gein Noordwest  918.0000          75.0000   \n",
       "2                 T94g K-buurt Zuidoost  129.0000          20.0000   \n",
       "3  M31c Zuidwestkwadrant Indische Buurt 1038.0000         168.0000   \n",
       "4           F88f Nieuw Sloten Noordoost  460.0000         313.0000   \n",
       "\n",
       "   not_married_no_kids  married_with_kids  not_married_with_kids  \\\n",
       "0             129.0000           285.0000                54.0000   \n",
       "1             123.0000           103.0000                80.0000   \n",
       "2              35.0000            84.0000                41.0000   \n",
       "3             195.0000           346.0000                69.0000   \n",
       "4             104.0000           304.0000                80.0000   \n",
       "\n",
       "   single_parent   other     total     avg_woz  woz_per_msq     borough  \\\n",
       "0       141.0000 37.0000 1435.0000 186984.0000    2106.0000  Neiuw-West   \n",
       "1       308.0000 22.0000 1629.0000 127038.0000    1803.0000    Zuidoost   \n",
       "2        56.0000  8.0000  373.0000 203325.0000    1758.0000    Zuidoost   \n",
       "3       209.0000 25.0000 2050.0000 183293.0000    2600.0000        Oost   \n",
       "4       127.0000 16.0000 1404.0000 248766.0000    2380.0000  Neiuw-West   \n",
       "\n",
       "   perc_area_single  perc_area_married_no_kids  perc_area_not_married_no_kids  \\\n",
       "0           42.9268                    12.0557                         8.9895   \n",
       "1           56.3536                     4.6041                         7.5506   \n",
       "2           34.5844                     5.3619                         9.3834   \n",
       "3           50.6341                     8.1951                         9.5122   \n",
       "4           32.7635                    22.2934                         7.4074   \n",
       "\n",
       "   perc_area_married_with_kids  perc_area_not_married_with_kids  \\\n",
       "0                      19.8606                           3.7631   \n",
       "1                       6.3229                           4.9110   \n",
       "2                      22.5201                          10.9920   \n",
       "3                      16.8780                           3.3659   \n",
       "4                      21.6524                           5.6980   \n",
       "\n",
       "   perc_area_single_parent  perc_area_other  perc_of_tot_fam_type_single  \\\n",
       "0                   9.8258           2.5784                       0.2906   \n",
       "1                  18.9073           1.3505                       0.4331   \n",
       "2                  15.0134           2.1448                       0.0609   \n",
       "3                  10.1951           1.2195                       0.4898   \n",
       "4                   9.0456           1.1396                       0.2170   \n",
       "\n",
       "   perc_of_tot_fam_type_married_no_kids  \\\n",
       "0                                0.4728   \n",
       "1                                0.2050   \n",
       "2                                0.0547   \n",
       "3                                0.4591   \n",
       "4                                0.8553   \n",
       "\n",
       "   perc_of_tot_fam_type_not_married_no_kids  \\\n",
       "0                                    0.2849   \n",
       "1                                    0.2717   \n",
       "2                                    0.0773   \n",
       "3                                    0.4307   \n",
       "4                                    0.2297   \n",
       "\n",
       "   perc_of_tot_fam_type_married_with_kids  \\\n",
       "0                                  0.6160   \n",
       "1                                  0.2226   \n",
       "2                                  0.1816   \n",
       "3                                  0.7478   \n",
       "4                                  0.6570   \n",
       "\n",
       "   perc_of_tot_fam_type_not_married_with_kids  \\\n",
       "0                                      0.2851   \n",
       "1                                      0.4224   \n",
       "2                                      0.2165   \n",
       "3                                      0.3643   \n",
       "4                                      0.4224   \n",
       "\n",
       "   perc_of_tot_fam_type_single_parent  perc_of_tot_fam_type_other  \\\n",
       "0                              0.3898                      0.6652   \n",
       "1                              0.8516                      0.3955   \n",
       "2                              0.1548                      0.1438   \n",
       "3                              0.5778                      0.4495   \n",
       "4                              0.3511                      0.2877   \n",
       "\n",
       "   area_has_buurt  area_has_burg  area_has_dijk  area_has_park  \\\n",
       "0           False          False          False          False   \n",
       "1           False          False          False          False   \n",
       "2            True          False          False          False   \n",
       "3            True          False          False          False   \n",
       "4           False          False          False          False   \n",
       "\n",
       "   area_has_plein  area_has_nieuw  area_has_gracht  area_has_dorp  \\\n",
       "0           False           False            False           True   \n",
       "1           False           False            False          False   \n",
       "2           False           False            False          False   \n",
       "3           False           False            False          False   \n",
       "4           False            True            False          False   \n",
       "\n",
       "   Highest_income_hhs  Touristy  Diversity  HasHomeStadium  IsPosh  \n",
       "0                   0         9          9               9       9  \n",
       "1                   0         4          9               1       9  \n",
       "2                   0         4          9               1       9  \n",
       "3                   0         4          1               9       9  \n",
       "4                   0         9          9               9       9  "
      ]
     },
     "execution_count": 7,
     "metadata": {},
     "output_type": "execute_result"
    }
   ],
   "source": [
    "input_path = data / \"02_intermediate/train_feature_engg.csv\"\n",
    "train = pd.read_parquet(input_path)\n",
    "\n",
    "abs_cols_new = {col: col.replace(\" \", \"_\").replace(\",\", \"\") for col in train.columns}\n",
    "\n",
    "train.rename(mapper=abs_cols_new, inplace=True, axis=1)\n",
    "\n",
    "train.head()"
   ]
  },
  {
   "cell_type": "code",
   "execution_count": 8,
   "metadata": {},
   "outputs": [
    {
     "data": {
      "text/plain": [
       "(343, 39)"
      ]
     },
     "execution_count": 8,
     "metadata": {},
     "output_type": "execute_result"
    }
   ],
   "source": [
    "train.shape"
   ]
  },
  {
   "cell_type": "markdown",
   "metadata": {},
   "source": [
    "# Train and validation split"
   ]
  },
  {
   "cell_type": "code",
   "execution_count": 9,
   "metadata": {},
   "outputs": [
    {
     "name": "stdout",
     "output_type": "stream",
     "text": [
      "(274, 39) (69, 39)\n"
     ]
    }
   ],
   "source": [
    "train, valid = train_test_split(\n",
    "    train, test_size=0.2, random_state=26, shuffle=12, stratify=None\n",
    ")\n",
    "print(train.shape, valid.shape)"
   ]
  },
  {
   "cell_type": "code",
   "execution_count": 10,
   "metadata": {},
   "outputs": [
    {
     "data": {
      "text/plain": [
       "((274, 37), (69, 37))"
      ]
     },
     "execution_count": 10,
     "metadata": {},
     "output_type": "execute_result"
    }
   ],
   "source": [
    "y_train = train.loc[:, [TARGET]]\n",
    "X_train = train.copy(deep=True)\n",
    "X_train.drop(columns=[\"area\", TARGET], inplace=True)\n",
    "X_train.shape\n",
    "\n",
    "y_valid = valid.loc[:, [TARGET]]\n",
    "X_valid = valid.copy(deep=True)\n",
    "X_valid.drop(columns=[\"area\", TARGET], inplace=True)\n",
    "X_train.shape, X_valid.shape"
   ]
  },
  {
   "cell_type": "code",
   "execution_count": 26,
   "metadata": {},
   "outputs": [],
   "source": [
    "X_train.to_parquet(data / \"02_intermediate/X_train.csv\", index=None)\n",
    "X_valid.to_parquet(data / \"02_intermediate/X_valid.csv\", index=None)\n",
    "y_train.to_parquet(data / \"02_intermediate/y_train.csv\", index=None)\n",
    "y_valid.to_parquet(data / \"02_intermediate/y_valid.csv\", index=None)"
   ]
  },
  {
   "cell_type": "markdown",
   "metadata": {},
   "source": [
    "We will use evaluation metric: MAE"
   ]
  },
  {
   "cell_type": "markdown",
   "metadata": {},
   "source": [
    "# Baseline model\n",
    "Borough avg woz is area's avg woz prediction"
   ]
  },
  {
   "cell_type": "code",
   "execution_count": 11,
   "metadata": {},
   "outputs": [
    {
     "data": {
      "text/html": [
       "<div>\n",
       "<style scoped>\n",
       "    .dataframe tbody tr th:only-of-type {\n",
       "        vertical-align: middle;\n",
       "    }\n",
       "\n",
       "    .dataframe tbody tr th {\n",
       "        vertical-align: top;\n",
       "    }\n",
       "\n",
       "    .dataframe thead th {\n",
       "        text-align: right;\n",
       "    }\n",
       "</style>\n",
       "<table border=\"1\" class=\"dataframe\">\n",
       "  <thead>\n",
       "    <tr style=\"text-align: right;\">\n",
       "      <th></th>\n",
       "      <th>borough</th>\n",
       "      <th>avg_woz</th>\n",
       "    </tr>\n",
       "  </thead>\n",
       "  <tbody>\n",
       "    <tr>\n",
       "      <th>0</th>\n",
       "      <td>Centrum</td>\n",
       "      <td>329031.8750</td>\n",
       "    </tr>\n",
       "    <tr>\n",
       "      <th>1</th>\n",
       "      <td>Neiuw-West</td>\n",
       "      <td>206334.3438</td>\n",
       "    </tr>\n",
       "    <tr>\n",
       "      <th>2</th>\n",
       "      <td>Noord</td>\n",
       "      <td>225285.5781</td>\n",
       "    </tr>\n",
       "    <tr>\n",
       "      <th>3</th>\n",
       "      <td>Oost</td>\n",
       "      <td>246292.8281</td>\n",
       "    </tr>\n",
       "    <tr>\n",
       "      <th>4</th>\n",
       "      <td>West</td>\n",
       "      <td>229158.4688</td>\n",
       "    </tr>\n",
       "    <tr>\n",
       "      <th>5</th>\n",
       "      <td>Zuid</td>\n",
       "      <td>357122.2188</td>\n",
       "    </tr>\n",
       "    <tr>\n",
       "      <th>6</th>\n",
       "      <td>Zuidoost</td>\n",
       "      <td>146749.0000</td>\n",
       "    </tr>\n",
       "  </tbody>\n",
       "</table>\n",
       "</div>"
      ],
      "text/plain": [
       "      borough     avg_woz\n",
       "0     Centrum 329031.8750\n",
       "1  Neiuw-West 206334.3438\n",
       "2       Noord 225285.5781\n",
       "3        Oost 246292.8281\n",
       "4        West 229158.4688\n",
       "5        Zuid 357122.2188\n",
       "6    Zuidoost 146749.0000"
      ]
     },
     "execution_count": 11,
     "metadata": {},
     "output_type": "execute_result"
    }
   ],
   "source": [
    "borough_mean = train.groupby(\"borough\")[TARGET].mean()\n",
    "borough_mean = pd.DataFrame(borough_mean).reset_index()\n",
    "borough_mean"
   ]
  },
  {
   "cell_type": "code",
   "execution_count": 12,
   "metadata": {},
   "outputs": [
    {
     "data": {
      "text/html": [
       "<div>\n",
       "<style scoped>\n",
       "    .dataframe tbody tr th:only-of-type {\n",
       "        vertical-align: middle;\n",
       "    }\n",
       "\n",
       "    .dataframe tbody tr th {\n",
       "        vertical-align: top;\n",
       "    }\n",
       "\n",
       "    .dataframe thead th {\n",
       "        text-align: right;\n",
       "    }\n",
       "</style>\n",
       "<table border=\"1\" class=\"dataframe\">\n",
       "  <thead>\n",
       "    <tr style=\"text-align: right;\">\n",
       "      <th></th>\n",
       "      <th>borough</th>\n",
       "      <th>avg_woz_x</th>\n",
       "      <th>avg_woz_y</th>\n",
       "    </tr>\n",
       "  </thead>\n",
       "  <tbody>\n",
       "    <tr>\n",
       "      <th>0</th>\n",
       "      <td>Zuidoost</td>\n",
       "      <td>117875.0000</td>\n",
       "      <td>146749.0000</td>\n",
       "    </tr>\n",
       "    <tr>\n",
       "      <th>1</th>\n",
       "      <td>Oost</td>\n",
       "      <td>197258.0000</td>\n",
       "      <td>246292.8281</td>\n",
       "    </tr>\n",
       "    <tr>\n",
       "      <th>2</th>\n",
       "      <td>Oost</td>\n",
       "      <td>147582.0000</td>\n",
       "      <td>246292.8281</td>\n",
       "    </tr>\n",
       "    <tr>\n",
       "      <th>3</th>\n",
       "      <td>Centrum</td>\n",
       "      <td>330551.0000</td>\n",
       "      <td>329031.8750</td>\n",
       "    </tr>\n",
       "    <tr>\n",
       "      <th>4</th>\n",
       "      <td>Zuidoost</td>\n",
       "      <td>139795.0000</td>\n",
       "      <td>146749.0000</td>\n",
       "    </tr>\n",
       "  </tbody>\n",
       "</table>\n",
       "</div>"
      ],
      "text/plain": [
       "    borough   avg_woz_x   avg_woz_y\n",
       "0  Zuidoost 117875.0000 146749.0000\n",
       "1      Oost 197258.0000 246292.8281\n",
       "2      Oost 147582.0000 246292.8281\n",
       "3   Centrum 330551.0000 329031.8750\n",
       "4  Zuidoost 139795.0000 146749.0000"
      ]
     },
     "execution_count": 12,
     "metadata": {},
     "output_type": "execute_result"
    }
   ],
   "source": [
    "interim_train = train.loc[:, [\"borough\", TARGET]].merge(\n",
    "    borough_mean, how=\"left\", on=\"borough\"\n",
    ")\n",
    "\n",
    "interim_valid = valid.loc[:, [\"borough\", TARGET]].merge(\n",
    "    borough_mean, how=\"left\", on=\"borough\"\n",
    ")\n",
    "\n",
    "interim_train.head()"
   ]
  },
  {
   "cell_type": "code",
   "execution_count": 13,
   "metadata": {},
   "outputs": [
    {
     "name": "stdout",
     "output_type": "stream",
     "text": [
      "Baseline training MAE is 73873.95\n",
      "Baseline training MAPE is 0.31\n",
      "Baseline validation MAE is 82972.20\n",
      "Baseline validation MAPE is 0.30\n"
     ]
    }
   ],
   "source": [
    "print(\n",
    "    f\"Baseline training MAE is {mean_absolute_error(interim_train['avg_woz_x'],interim_train['avg_woz_y']):.2f}\"\n",
    ")\n",
    "print(\n",
    "    f\"Baseline training MAPE is {mean_absolute_percentage_error(interim_train['avg_woz_x'],interim_train['avg_woz_y']):.2f}\"\n",
    ")\n",
    "\n",
    "print(\n",
    "    f\"Baseline validation MAE is {mean_absolute_error(interim_valid['avg_woz_x'],interim_valid['avg_woz_y']):.2f}\"\n",
    ")\n",
    "print(\n",
    "    f\"Baseline validation MAPE is {mean_absolute_percentage_error(interim_valid['avg_woz_x'],interim_valid['avg_woz_y']):.2f}\"\n",
    ")"
   ]
  },
  {
   "cell_type": "markdown",
   "metadata": {},
   "source": [
    "### Comparing various algorithms"
   ]
  },
  {
   "cell_type": "code",
   "execution_count": 14,
   "metadata": {},
   "outputs": [],
   "source": [
    "abs_cols = [\n",
    "    \"single\",\n",
    "    \"married_no_kids\",\n",
    "    \"not_married_no_kids\",\n",
    "    \"married_with_kids\",\n",
    "    \"not_married_with_kids\",\n",
    "    \"single_parent\",\n",
    "    \"other\",\n",
    "]\n",
    "perc_area_cols = [\n",
    "    \"perc_area_single\",\n",
    "    \"perc_area_married_no_kids\",\n",
    "    \"perc_area_not_married_no_kids\",\n",
    "    \"perc_area_married_with_kids\",\n",
    "    \"perc_area_not_married_with_kids\",\n",
    "    \"perc_area_single_parent\",\n",
    "    \"perc_area_other\",\n",
    "]\n",
    "\n",
    "perc_of_tot_fam_cols = [\n",
    "    \"perc_of_tot_fam_type_single\",\n",
    "    \"perc_of_tot_fam_type_married_no_kids\",\n",
    "    \"perc_of_tot_fam_type_not_married_no_kids\",\n",
    "    \"perc_of_tot_fam_type_married_with_kids\",\n",
    "    \"perc_of_tot_fam_type_not_married_with_kids\",\n",
    "    \"perc_of_tot_fam_type_single_parent\",\n",
    "    \"perc_of_tot_fam_type_other\",\n",
    "]\n",
    "\n",
    "borough_details = [\n",
    "    \"Highest_income_hhs\",\n",
    "    \"Touristy\",\n",
    "    \"Diversity\",\n",
    "    \"HasHomeStadium\",\n",
    "    \"IsPosh\",\n",
    "]\n",
    "other_cols = [\n",
    "    \"total\",\n",
    "]\n",
    "\n",
    "area_has_cols = [\n",
    "    \"area_has_buurt\",\n",
    "    #     \"area_has_burg\",\n",
    "    #     \"area_has_dijk\",\n",
    "    #     \"area_has_park\",\n",
    "    #     \"area_has_plein\",\n",
    "    #     \"area_has_nieuw\",\n",
    "    #     \"area_has_gracht\",\n",
    "    #     \"area_has_dorp\",\n",
    "]\n",
    "\n",
    "other_cols_cat = \"borough\""
   ]
  },
  {
   "cell_type": "code",
   "execution_count": 19,
   "metadata": {},
   "outputs": [
    {
     "name": "stdout",
     "output_type": "stream",
     "text": [
      "15\n"
     ]
    }
   ],
   "source": [
    "model_features = perc_area_cols + abs_cols + other_cols\n",
    "print(len(model_features))"
   ]
  },
  {
   "cell_type": "markdown",
   "metadata": {},
   "source": [
    "#### Linear regression"
   ]
  },
  {
   "cell_type": "code",
   "execution_count": 18,
   "metadata": {},
   "outputs": [
    {
     "name": "stdout",
     "output_type": "stream",
     "text": [
      "0.0 0.32407668 0.31013075 69297.56 79143.74\n",
      "0.1 0.29744235 0.2901169 65611.47 75762.56\n",
      "0.2 0.29744068 0.2901174 65611.266 75762.36\n",
      "0.30000000000000004 0.29743907 0.29011795 65611.06 75762.17\n",
      "0.4 0.29743743 0.29011855 65610.86 75762.0\n",
      "0.5 0.29743585 0.2901191 65610.67 75761.84\n",
      "0.6000000000000001 0.29743424 0.29011965 65610.47 75761.65\n",
      "0.7000000000000001 0.29743257 0.29012024 65610.27 75761.47\n",
      "0.8 0.29743096 0.29012072 65610.06 75761.28\n",
      "0.9 0.29742938 0.2901213 65609.87 75761.11\n"
     ]
    }
   ],
   "source": [
    "for a in np.linspace(0, 1, 10, endpoint=False):\n",
    "    est = Ridge(\n",
    "        alpha=a,\n",
    "    )\n",
    "    est.fit(X_train.loc[:, model_features], y_train)\n",
    "\n",
    "    ridge_pred_train = est.predict(X_train[model_features])\n",
    "    ridge_pred_valid = est.predict(X_valid[model_features])\n",
    "\n",
    "    print(\n",
    "        a,\n",
    "        mean_absolute_percentage_error(y_train, ridge_pred_train),\n",
    "        mean_absolute_percentage_error(y_valid, ridge_pred_valid),\n",
    "        mean_absolute_error(y_train, ridge_pred_train),\n",
    "        mean_absolute_error(y_valid, ridge_pred_valid),\n",
    "    )\n",
    "\n",
    "# coefs = pd.DataFrame(est.coef_[0], columns=[\"Coefficients\"], index=model_features)\n",
    "# coefs"
   ]
  },
  {
   "cell_type": "markdown",
   "metadata": {},
   "source": [
    "#### Random Forest"
   ]
  },
  {
   "cell_type": "code",
   "execution_count": 23,
   "metadata": {},
   "outputs": [
    {
     "name": "stdout",
     "output_type": "stream",
     "text": [
      "0.14932908524239072 0.2743192526662373 36619.44604014599 70032.46942028987\n"
     ]
    },
    {
     "data": {
      "text/plain": [
       "<AxesSubplot:>"
      ]
     },
     "execution_count": 23,
     "metadata": {},
     "output_type": "execute_result"
    },
    {
     "data": {
      "image/png": "[encoded data removed]",
      "text/plain": [
       "<Figure size 432x288 with 1 Axes>"
      ]
     },
     "metadata": {
      "needs_background": "light"
     },
     "output_type": "display_data"
    }
   ],
   "source": [
    "est_rf = RandomForestRegressor(criterion=\"mae\", max_depth=5)\n",
    "\n",
    "est_rf.fit(\n",
    "    X_train.loc[:, model_features],\n",
    "    np.array(y_train).reshape(\n",
    "        -1,\n",
    "    ),\n",
    ")\n",
    "\n",
    "rf_pred_train = est_rf.predict(X_train[model_features])\n",
    "rf_pred_valid = est_rf.predict(X_valid[model_features])\n",
    "\n",
    "print(\n",
    "    mean_absolute_percentage_error(y_train, rf_pred_train),\n",
    "    mean_absolute_percentage_error(y_valid, rf_pred_valid),\n",
    "    mean_absolute_error(y_train, rf_pred_train),\n",
    "    mean_absolute_error(y_valid, rf_pred_valid),\n",
    ")\n",
    "\n",
    "sns.barplot(x=est_rf.feature_importances_, y=model_features)"
   ]
  },
  {
   "cell_type": "code",
   "execution_count": 24,
   "metadata": {},
   "outputs": [
    {
     "name": "stdout",
     "output_type": "stream",
     "text": [
      "0.01378275235572584 0.265075086890387 3253.759428227754 66746.96161758495\n"
     ]
    },
    {
     "data": {
      "text/plain": [
       "<AxesSubplot:>"
      ]
     },
     "execution_count": 24,
     "metadata": {},
     "output_type": "execute_result"
    },
    {
     "data": {
      "image/png": "[encoded data removed]",
      "text/plain": [
       "<Figure size 432x288 with 1 Axes>"
      ]
     },
     "metadata": {
      "needs_background": "light"
     },
     "output_type": "display_data"
    }
   ],
   "source": [
    "est_rf = GradientBoostingRegressor(max_depth=5, loss=\"ls\")\n",
    "\n",
    "est_rf.fit(\n",
    "    X_train.loc[:, model_features],\n",
    "    np.array(y_train).reshape(\n",
    "        -1,\n",
    "    ),\n",
    ")\n",
    "\n",
    "rf_pred_train = est_rf.predict(X_train[model_features])\n",
    "rf_pred_valid = est_rf.predict(X_valid[model_features])\n",
    "\n",
    "print(\n",
    "    mean_absolute_percentage_error(y_train, rf_pred_train),\n",
    "    mean_absolute_percentage_error(y_valid, rf_pred_valid),\n",
    "    mean_absolute_error(y_train, rf_pred_train),\n",
    "    mean_absolute_error(y_valid, rf_pred_valid),\n",
    ")\n",
    "\n",
    "sns.barplot(x=est_rf.feature_importances_, y=model_features)"
   ]
  }
 ],
 "metadata": {
  "kernelspec": {
   "display_name": "Python 3",
   "language": "python",
   "name": "python3"
  },
  "language_info": {
   "codemirror_mode": {
    "name": "ipython",
    "version": 3
   },
   "file_extension": ".py",
   "mimetype": "text/x-python",
   "name": "python",
   "nbconvert_exporter": "python",
   "pygments_lexer": "ipython3",
   "version": "3.8.5"
  }
 },
 "nbformat": 4,
 "nbformat_minor": 4
}
