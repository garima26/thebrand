{
 "cells": [
  {
   "cell_type": "code",
   "execution_count": 1,
   "metadata": {},
   "outputs": [],
   "source": [
    "%load_ext lab_black\n",
    "%load_ext autoreload\n",
    "%autoreload 2"
   ]
  },
  {
   "cell_type": "code",
   "execution_count": 2,
   "metadata": {},
   "outputs": [
    {
     "name": "stdout",
     "output_type": "stream",
     "text": [
      "C:\\Users\\igari\\OneDrive\\Documents\\thebrand\n"
     ]
    }
   ],
   "source": [
    "%cd ~\\OneDrive\\Documents\\thebrand"
   ]
  },
  {
   "cell_type": "markdown",
   "metadata": {},
   "source": [
    "# Project objective: Demand forecast (unit sales) for potential new products for \"The Brand\""
   ]
  },
  {
   "cell_type": "code",
   "execution_count": 3,
   "metadata": {},
   "outputs": [],
   "source": [
    "import pandas as pd\n",
    "import numpy as np\n",
    "from pathlib import Path\n",
    "import pickle\n",
    "import matplotlib.pyplot as plt\n",
    "\n",
    "%matplotlib inline\n",
    "import seaborn as sns\n",
    "\n",
    "from sklearn.ensemble import RandomForestRegressor, GradientBoostingRegressor\n",
    "\n",
    "from sklearn.metrics import mean_absolute_error, mean_absolute_percentage_error\n",
    "\n",
    "from src.utils.constants import TARGET, MODEL_FEATURES\n",
    "from src.utils.funcs import get_nrf_color_group\n",
    "\n",
    "import warnings\n",
    "warnings.filterwarnings(\"ignore\")"
   ]
  },
  {
   "cell_type": "code",
   "execution_count": 4,
   "metadata": {},
   "outputs": [],
   "source": [
    "pd.options.display.float_format = \"{:.2f}\".format\n",
    "pd.set_option(\"display.max_rows\", 99)\n",
    "pd.set_option(\"display.max_colwidth\", 199)"
   ]
  },
  {
   "cell_type": "code",
   "execution_count": 5,
   "metadata": {},
   "outputs": [],
   "source": [
    "base_dir = Path(\"/Users/igari/OneDrive/Documents/thebrand\")\n",
    "data = base_dir / \"data\""
   ]
  },
  {
   "cell_type": "markdown",
   "metadata": {},
   "source": [
    "# A note on choice of models"
   ]
  },
  {
   "cell_type": "markdown",
   "metadata": {},
   "source": [
    "Model requirements:\n",
    "   - Should be able to detect interactions without coding for interaction features\n",
    "   - Should be able to handle new values of categorical features\n",
    "   - Should generalise well and be less prone to overfitting"
   ]
  },
  {
   "cell_type": "markdown",
   "metadata": {},
   "source": [
    "Decision trees are generally better at uncovering feature interactions without explicitly coding for them. Therefore, in interest of time, we will skip testing linear regression models but ideally, this should be done."
   ]
  },
  {
   "cell_type": "markdown",
   "metadata": {},
   "source": [
    "# Read in training data"
   ]
  },
  {
   "cell_type": "code",
   "execution_count": 6,
   "metadata": {},
   "outputs": [
    {
     "data": {
      "text/html": [
       "<div>\n",
       "<style scoped>\n",
       "    .dataframe tbody tr th:only-of-type {\n",
       "        vertical-align: middle;\n",
       "    }\n",
       "\n",
       "    .dataframe tbody tr th {\n",
       "        vertical-align: top;\n",
       "    }\n",
       "\n",
       "    .dataframe thead th {\n",
       "        text-align: right;\n",
       "    }\n",
       "</style>\n",
       "<table border=\"1\" class=\"dataframe\">\n",
       "  <thead>\n",
       "    <tr style=\"text-align: right;\">\n",
       "      <th></th>\n",
       "      <th>MATERIAL_CONTENT_CODE</th>\n",
       "      <th>PRODUCT_TYPES</th>\n",
       "      <th>BUSINESS_SEGMENTS</th>\n",
       "      <th>Sustainablity</th>\n",
       "      <th>MARKETING_CATEGORY</th>\n",
       "      <th>nrf_color_group</th>\n",
       "    </tr>\n",
       "  </thead>\n",
       "  <tbody>\n",
       "    <tr>\n",
       "      <th>0</th>\n",
       "      <td>75.83</td>\n",
       "      <td>76.79</td>\n",
       "      <td>77.01</td>\n",
       "      <td>1</td>\n",
       "      <td>76.50</td>\n",
       "      <td>1</td>\n",
       "    </tr>\n",
       "    <tr>\n",
       "      <th>1</th>\n",
       "      <td>74.53</td>\n",
       "      <td>72.17</td>\n",
       "      <td>74.08</td>\n",
       "      <td>1</td>\n",
       "      <td>76.33</td>\n",
       "      <td>1</td>\n",
       "    </tr>\n",
       "    <tr>\n",
       "      <th>2</th>\n",
       "      <td>74.53</td>\n",
       "      <td>75.37</td>\n",
       "      <td>74.50</td>\n",
       "      <td>2</td>\n",
       "      <td>76.56</td>\n",
       "      <td>2</td>\n",
       "    </tr>\n",
       "    <tr>\n",
       "      <th>3</th>\n",
       "      <td>74.57</td>\n",
       "      <td>74.88</td>\n",
       "      <td>75.86</td>\n",
       "      <td>3</td>\n",
       "      <td>95.39</td>\n",
       "      <td>3</td>\n",
       "    </tr>\n",
       "    <tr>\n",
       "      <th>4</th>\n",
       "      <td>64.82</td>\n",
       "      <td>66.97</td>\n",
       "      <td>73.71</td>\n",
       "      <td>4</td>\n",
       "      <td>49.92</td>\n",
       "      <td>1</td>\n",
       "    </tr>\n",
       "  </tbody>\n",
       "</table>\n",
       "</div>"
      ],
      "text/plain": [
       "   MATERIAL_CONTENT_CODE  PRODUCT_TYPES  BUSINESS_SEGMENTS  Sustainablity  \\\n",
       "0                  75.83          76.79              77.01              1   \n",
       "1                  74.53          72.17              74.08              1   \n",
       "2                  74.53          75.37              74.50              2   \n",
       "3                  74.57          74.88              75.86              3   \n",
       "4                  64.82          66.97              73.71              4   \n",
       "\n",
       "   MARKETING_CATEGORY  nrf_color_group  \n",
       "0               76.50                1  \n",
       "1               76.33                1  \n",
       "2               76.56                2  \n",
       "3               95.39                3  \n",
       "4               49.92                1  "
      ]
     },
     "execution_count": 6,
     "metadata": {},
     "output_type": "execute_result"
    }
   ],
   "source": [
    "train_path = data / \"01_raw\" / \"train_raw.csv\"\n",
    "train = pd.read_parquet(train_path)\n",
    "\n",
    "y_train = train.loc[:, [TARGET]]\n",
    "X_train = train.loc[:, MODEL_FEATURES]\n",
    "\n",
    "X_train.head()"
   ]
  },
  {
   "cell_type": "markdown",
   "metadata": {},
   "source": [
    "# Test data preprocessing"
   ]
  },
  {
   "cell_type": "code",
   "execution_count": 7,
   "metadata": {},
   "outputs": [
    {
     "data": {
      "text/plain": [
       "(12128, 7)"
      ]
     },
     "execution_count": 7,
     "metadata": {},
     "output_type": "execute_result"
    }
   ],
   "source": [
    "test_path = data / \"01_raw\" / \"test_raw.csv\"\n",
    "test = pd.read_parquet(test_path)\n",
    "test.shape"
   ]
  },
  {
   "cell_type": "code",
   "execution_count": 8,
   "metadata": {},
   "outputs": [
    {
     "data": {
      "text/html": [
       "<div>\n",
       "<style scoped>\n",
       "    .dataframe tbody tr th:only-of-type {\n",
       "        vertical-align: middle;\n",
       "    }\n",
       "\n",
       "    .dataframe tbody tr th {\n",
       "        vertical-align: top;\n",
       "    }\n",
       "\n",
       "    .dataframe thead th {\n",
       "        text-align: right;\n",
       "    }\n",
       "</style>\n",
       "<table border=\"1\" class=\"dataframe\">\n",
       "  <thead>\n",
       "    <tr style=\"text-align: right;\">\n",
       "      <th></th>\n",
       "      <th>MATERIAL_CONTENT_CODE</th>\n",
       "      <th>PRODUCT_TYPES</th>\n",
       "      <th>BUSINESS_SEGMENTS</th>\n",
       "      <th>NRF_COLOR_CODE</th>\n",
       "      <th>Sustainablity</th>\n",
       "      <th>MARKETING_CATEGORY</th>\n",
       "      <th>Units_sold</th>\n",
       "      <th>nrf_color_group</th>\n",
       "    </tr>\n",
       "  </thead>\n",
       "  <tbody>\n",
       "    <tr>\n",
       "      <th>7</th>\n",
       "      <td>74.23</td>\n",
       "      <td>74.37</td>\n",
       "      <td>74.55</td>\n",
       "      <td>1.00</td>\n",
       "      <td>1</td>\n",
       "      <td>99.51</td>\n",
       "      <td>36</td>\n",
       "      <td>1</td>\n",
       "    </tr>\n",
       "    <tr>\n",
       "      <th>8</th>\n",
       "      <td>73.66</td>\n",
       "      <td>74.83</td>\n",
       "      <td>74.68</td>\n",
       "      <td>610.00</td>\n",
       "      <td>9</td>\n",
       "      <td>70.91</td>\n",
       "      <td>120</td>\n",
       "      <td>12</td>\n",
       "    </tr>\n",
       "    <tr>\n",
       "      <th>9</th>\n",
       "      <td>74.53</td>\n",
       "      <td>73.47</td>\n",
       "      <td>72.68</td>\n",
       "      <td>610.00</td>\n",
       "      <td>2</td>\n",
       "      <td>100.52</td>\n",
       "      <td>120</td>\n",
       "      <td>12</td>\n",
       "    </tr>\n",
       "    <tr>\n",
       "      <th>10</th>\n",
       "      <td>62.85</td>\n",
       "      <td>74.37</td>\n",
       "      <td>74.55</td>\n",
       "      <td>307.00</td>\n",
       "      <td>10</td>\n",
       "      <td>50.93</td>\n",
       "      <td>96</td>\n",
       "      <td>11</td>\n",
       "    </tr>\n",
       "    <tr>\n",
       "      <th>11</th>\n",
       "      <td>77.33</td>\n",
       "      <td>75.54</td>\n",
       "      <td>73.71</td>\n",
       "      <td>1.00</td>\n",
       "      <td>9</td>\n",
       "      <td>70.91</td>\n",
       "      <td>108</td>\n",
       "      <td>1</td>\n",
       "    </tr>\n",
       "  </tbody>\n",
       "</table>\n",
       "</div>"
      ],
      "text/plain": [
       "    MATERIAL_CONTENT_CODE  PRODUCT_TYPES  BUSINESS_SEGMENTS  NRF_COLOR_CODE  \\\n",
       "7                   74.23          74.37              74.55            1.00   \n",
       "8                   73.66          74.83              74.68          610.00   \n",
       "9                   74.53          73.47              72.68          610.00   \n",
       "10                  62.85          74.37              74.55          307.00   \n",
       "11                  77.33          75.54              73.71            1.00   \n",
       "\n",
       "    Sustainablity  MARKETING_CATEGORY  Units_sold  nrf_color_group  \n",
       "7               1               99.51          36                1  \n",
       "8               9               70.91         120               12  \n",
       "9               2              100.52         120               12  \n",
       "10             10               50.93          96               11  \n",
       "11              9               70.91         108                1  "
      ]
     },
     "execution_count": 8,
     "metadata": {},
     "output_type": "execute_result"
    }
   ],
   "source": [
    "# Outlier removal at 216.0\n",
    "test = test[test.Units_sold < 216]\n",
    "\n",
    "# Feature nrf color group\n",
    "test[\"nrf_color_group\"] = test.apply(get_nrf_color_group, axis=1)\n",
    "\n",
    "# Categorical encoding\n",
    "oe_encoder_path = base_dir / \"artifacts\" / \"oe_encoder.pkl\"\n",
    "file = open(oe_encoder_path, \"rb\")\n",
    "oe_encoder = pickle.load(file)\n",
    "test = oe_encoder.fit_transform(test)\n",
    "\n",
    "encoder_path = base_dir / \"artifacts\" / \"encoder.pkl\"\n",
    "file2 = open(encoder_path, \"rb\")\n",
    "encoder = pickle.load(file2)\n",
    "test = encoder.transform(test)\n",
    "test.head()"
   ]
  },
  {
   "cell_type": "code",
   "execution_count": 9,
   "metadata": {},
   "outputs": [],
   "source": [
    "y_test = test.loc[:, [TARGET]]\n",
    "X_test = test.loc[:, MODEL_FEATURES]\n",
    "\n",
    "X_train.to_parquet(data / \"02_intermediate/X_train.csv\", index=None)\n",
    "X_test.to_parquet(data / \"02_intermediate/X_valid.csv\", index=None)\n",
    "y_train.to_parquet(data / \"02_intermediate/y_train.csv\", index=None)\n",
    "y_test.to_parquet(data / \"02_intermediate/y_valid.csv\", index=None)"
   ]
  },
  {
   "cell_type": "markdown",
   "metadata": {},
   "source": [
    "We will use evaluation metric: MAE"
   ]
  },
  {
   "cell_type": "markdown",
   "metadata": {},
   "source": [
    "### Comparing various algorithms"
   ]
  },
  {
   "cell_type": "markdown",
   "metadata": {},
   "source": [
    "Let us see whether bagging does better or boosting in this problem"
   ]
  },
  {
   "cell_type": "markdown",
   "metadata": {},
   "source": [
    "#### Random Forest"
   ]
  },
  {
   "cell_type": "code",
   "execution_count": 10,
   "metadata": {},
   "outputs": [
    {
     "name": "stderr",
     "output_type": "stream",
     "text": [
      "[Parallel(n_jobs=-1)]: Using backend ThreadingBackend with 12 concurrent workers.\n",
      "[Parallel(n_jobs=-1)]: Done  26 tasks      | elapsed:   53.8s\n"
     ]
    },
    {
     "name": "stdout",
     "output_type": "stream",
     "text": [
      "Training MAE: 30.67936997096641\n",
      "Test MAE: 35.17684097124389\n"
     ]
    },
    {
     "name": "stderr",
     "output_type": "stream",
     "text": [
      "[Parallel(n_jobs=-1)]: Done 100 out of 100 | elapsed:  2.9min finished\n",
      "[Parallel(n_jobs=12)]: Using backend ThreadingBackend with 12 concurrent workers.\n",
      "[Parallel(n_jobs=12)]: Done  26 tasks      | elapsed:    0.0s\n",
      "[Parallel(n_jobs=12)]: Done 100 out of 100 | elapsed:    0.0s finished\n",
      "[Parallel(n_jobs=12)]: Using backend ThreadingBackend with 12 concurrent workers.\n",
      "[Parallel(n_jobs=12)]: Done  26 tasks      | elapsed:    0.0s\n",
      "[Parallel(n_jobs=12)]: Done 100 out of 100 | elapsed:    0.0s finished\n"
     ]
    },
    {
     "data": {
      "text/plain": [
       "<AxesSubplot:>"
      ]
     },
     "execution_count": 10,
     "metadata": {},
     "output_type": "execute_result"
    },
    {
     "data": {
      "image/png": "[encoded data removed]",
      "text/plain": [
       "<Figure size 432x288 with 1 Axes>"
      ]
     },
     "metadata": {
      "needs_background": "light"
     },
     "output_type": "display_data"
    }
   ],
   "source": [
    "est_rf = RandomForestRegressor(\n",
    "    criterion=\"absolute_error\", max_depth=5, verbose=1, n_jobs=-1\n",
    ")\n",
    "\n",
    "est_rf.fit(\n",
    "    X_train.loc[:, MODEL_FEATURES],\n",
    "    np.array(y_train).reshape(\n",
    "        -1,\n",
    "    ),\n",
    ")\n",
    "\n",
    "rf_pred_train = est_rf.predict(X_train[MODEL_FEATURES])\n",
    "rf_pred_test = est_rf.predict(X_test[MODEL_FEATURES])\n",
    "\n",
    "print(f\"Training MAE: {mean_absolute_error(y_train, rf_pred_train)}\")\n",
    "print(f\"Test MAE: {mean_absolute_error(y_test, rf_pred_test)}\")\n",
    "\n",
    "sns.barplot(x=est_rf.feature_importances_, y=MODEL_FEATURES)"
   ]
  },
  {
   "cell_type": "code",
   "execution_count": 30,
   "metadata": {},
   "outputs": [
    {
     "name": "stdout",
     "output_type": "stream",
     "text": [
      "      Iter       Train Loss   Remaining Time \n",
      "         1        1476.6466            3.49s\n",
      "         2        1452.0053            3.55s\n",
      "         3        1431.6570            3.56s\n",
      "         4        1415.0081            4.01s\n",
      "         5        1401.4865            3.96s\n",
      "         6        1390.2132            3.97s\n",
      "         7        1380.8787            3.79s\n",
      "         8        1373.2495            3.87s\n",
      "         9        1366.7314            3.84s\n",
      "        10        1361.4476            3.78s\n",
      "        20        1336.5210            3.27s\n",
      "        30        1328.0557            2.82s\n",
      "        40        1323.1804            2.42s\n",
      "        50        1319.7823            2.02s\n",
      "        60        1316.7200            1.63s\n",
      "        70        1312.9982            1.21s\n",
      "        80        1310.8781            0.80s\n",
      "        90        1307.8181            0.40s\n",
      "       100        1304.1535            0.00s\n",
      "Training MAE: 30.333248187606173\n",
      "Test MAE: 34.58144729714273\n",
      "Training MAPE: 0.8120859606024257\n",
      "Test MAPE: 0.941797111613803\n"
     ]
    },
    {
     "data": {
      "text/plain": [
       "<AxesSubplot:>"
      ]
     },
     "execution_count": 30,
     "metadata": {},
     "output_type": "execute_result"
    },
    {
     "data": {
      "image/png": "[encoded data removed]",
      "text/plain": [
       "<Figure size 432x288 with 1 Axes>"
      ]
     },
     "metadata": {
      "needs_background": "light"
     },
     "output_type": "display_data"
    }
   ],
   "source": [
    "est_gb = GradientBoostingRegressor(max_depth=5, loss=\"squared_error\", verbose=1)\n",
    "\n",
    "est_gb.fit(\n",
    "    X_train.loc[:, MODEL_FEATURES],\n",
    "    np.array(y_train).reshape(\n",
    "        -1,\n",
    "    ),\n",
    ")\n",
    "\n",
    "gb_pred_train = est_gb.predict(X_train[MODEL_FEATURES])\n",
    "gb_pred_test = est_gb.predict(X_test[MODEL_FEATURES])\n",
    "\n",
    "print(f\"Training MAE: {mean_absolute_error(y_train, gb_pred_train)}\")\n",
    "print(f\"Test MAE: {mean_absolute_error(y_test, gb_pred_test)}\")\n",
    "\n",
    "print(f\"Training MAPE: {mean_absolute_percentage_error(y_train, gb_pred_train)}\")\n",
    "print(f\"Test MAPE: {mean_absolute_percentage_error(y_test, gb_pred_test)}\")\n",
    "\n",
    "sns.barplot(x=est_gb.feature_importances_, y=MODEL_FEATURES)"
   ]
  },
  {
   "cell_type": "markdown",
   "metadata": {},
   "source": [
    "Both are giving comparable results so let us stick to boosting for now as it ran faster than bagging."
   ]
  },
  {
   "cell_type": "markdown",
   "metadata": {},
   "source": [
    "There is a huge scope to fix the categorical encoder here as all the weight is going to `MARKETING_CATEGORY` here which is not ideal."
   ]
  },
  {
   "cell_type": "markdown",
   "metadata": {},
   "source": [
    "## How do training vs test MAE change with max depth?"
   ]
  },
  {
   "cell_type": "code",
   "execution_count": null,
   "metadata": {},
   "outputs": [],
   "source": [
    "training_mae = []\n",
    "test_mae = []\n",
    "for d in range(2, 20):\n",
    "    est_rf = GradientBoostingRegressor(max_depth=d, loss=\"squared_error\")\n",
    "\n",
    "    est_rf.fit(\n",
    "        X_train.loc[:, MODEL_FEATURES],\n",
    "        np.array(y_train).reshape(\n",
    "            -1,\n",
    "        ),\n",
    "    )\n",
    "\n",
    "    rf_pred_train = est_rf.predict(X_train[MODEL_FEATURES])\n",
    "    rf_pred_test = est_rf.predict(X_test[MODEL_FEATURES])\n",
    "\n",
    "    training_mae.append(mean_absolute_error(y_train, rf_pred_train))\n",
    "    test_mae.append(mean_absolute_error(y_test, rf_pred_test))"
   ]
  },
  {
   "cell_type": "code",
   "execution_count": 40,
   "metadata": {},
   "outputs": [
    {
     "data": {
      "image/png": "[encoded data removed]",
      "text/plain": [
       "<Figure size 432x288 with 1 Axes>"
      ]
     },
     "metadata": {
      "needs_background": "light"
     },
     "output_type": "display_data"
    }
   ],
   "source": [
    "plt.title(\"Training vs Test MAE by Max Depth\", fontdict={\"fontsize\": 14})\n",
    "plt.xlabel(\"Max Depth\", fontsize=10)\n",
    "plt.ylabel(\"MAE\", fontsize=10)\n",
    "\n",
    "sns.lineplot(range(2, 20), training_mae, label=\"Training MAE\")\n",
    "sns.lineplot(range(2, 20), test_mae, label=\"Test MAE\")\n",
    "plt.legend()\n",
    "plt.show()"
   ]
  },
  {
   "cell_type": "markdown",
   "metadata": {},
   "source": [
    "The model requires further tuning and more predictors clearly. The MAPE is really bad.\n",
    "</br> Here are tuning ideas:\n"
   ]
  },
  {
   "cell_type": "markdown",
   "metadata": {},
   "source": [
    "# Example data point prediction"
   ]
  },
  {
   "cell_type": "code",
   "execution_count": 13,
   "metadata": {},
   "outputs": [],
   "source": [
    "# New data point\n",
    "new = pd.DataFrame(\n",
    "    {\n",
    "        \"MATERIAL_CONTENT_CODE\": [\"AT2F\"],\n",
    "        \"PRODUCT_TYPES\": [1],\n",
    "        \"BUSINESS_SEGMENTS\": [30308],\n",
    "        \"NRF_COLOR_CODE\": [734],\n",
    "        \"Sustainablity\": [\"Low carbon footprint\"],\n",
    "        \"MARKETING_CATEGORY\": [\"P219\"],\n",
    "        \"Units_sold\": [np.nan],\n",
    "    }\n",
    ")"
   ]
  },
  {
   "cell_type": "code",
   "execution_count": 14,
   "metadata": {},
   "outputs": [
    {
     "data": {
      "text/plain": [
       "array([71.96868458])"
      ]
     },
     "execution_count": 14,
     "metadata": {},
     "output_type": "execute_result"
    }
   ],
   "source": [
    "# Feature nrf color group\n",
    "new[\"nrf_color_group\"] = new.apply(get_nrf_color_group, axis=1)\n",
    "\n",
    "# Categorical encoding\n",
    "new = oe_encoder.fit_transform(new)\n",
    "new = encoder.transform(new)\n",
    "\n",
    "est_rf.predict(new[MODEL_FEATURES])"
   ]
  },
  {
   "cell_type": "code",
   "execution_count": 41,
   "metadata": {},
   "outputs": [],
   "source": [
    "# Serialize the model\n",
    "gb_model_path = base_dir / \"artifacts\" / \"gb_model.pkl\"\n",
    "file = open(gb_model_path, \"wb\")\n",
    "pickle.dump(est_gb, file)"
   ]
  },
  {
   "cell_type": "code",
   "execution_count": 15,
   "metadata": {},
   "outputs": [],
   "source": [
    "# TODO: Add requirements.txt, fill the README or delete it"
   ]
  }
 ],
 "metadata": {
  "kernelspec": {
   "display_name": "Python 3 (ipykernel)",
   "language": "python",
   "name": "python3"
  },
  "language_info": {
   "codemirror_mode": {
    "name": "ipython",
    "version": 3
   },
   "file_extension": ".py",
   "mimetype": "text/x-python",
   "name": "python",
   "nbconvert_exporter": "python",
   "pygments_lexer": "ipython3",
   "version": "3.8.12"
  }
 },
 "nbformat": 4,
 "nbformat_minor": 4
}
