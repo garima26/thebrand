{
 "cells": [
  {
   "cell_type": "code",
   "execution_count": 1,
   "metadata": {},
   "outputs": [],
   "source": [
    "%load_ext lab_black\n",
    "%load_ext autoreload\n",
    "%autoreload 2"
   ]
  },
  {
   "cell_type": "code",
   "execution_count": 2,
   "metadata": {},
   "outputs": [
    {
     "name": "stdout",
     "output_type": "stream",
     "text": [
      "C:\\Users\\igari\\OneDrive\\Documents\\thebrand\n"
     ]
    }
   ],
   "source": [
    "%cd ~\\OneDrive\\Documents\\thebrand"
   ]
  },
  {
   "cell_type": "markdown",
   "metadata": {},
   "source": [
    "# Project objective: Demand forecast (unit sales) for potential new products for \"The Brand\""
   ]
  },
  {
   "cell_type": "code",
   "execution_count": 12,
   "metadata": {},
   "outputs": [],
   "source": [
    "import pandas as pd\n",
    "import numpy as np\n",
    "from pathlib import Path\n",
    "import pickle\n",
    "import matplotlib.pyplot as plt\n",
    "\n",
    "%matplotlib inline\n",
    "import seaborn as sns\n",
    "\n",
    "from sklearn.ensemble import RandomForestRegressor, GradientBoostingRegressor\n",
    "\n",
    "from sklearn.metrics import mean_absolute_error, mean_absolute_percentage_error\n",
    "\n",
    "from src.utils.constants import TARGET, MODEL_FEATURES\n",
    "from src.utils.funcs import get_nrf_color_group"
   ]
  },
  {
   "cell_type": "code",
   "execution_count": 4,
   "metadata": {},
   "outputs": [],
   "source": [
    "pd.options.display.float_format = \"{:.2f}\".format\n",
    "pd.set_option(\"display.max_rows\", 99)\n",
    "pd.set_option(\"display.max_colwidth\", 199)"
   ]
  },
  {
   "cell_type": "code",
   "execution_count": 5,
   "metadata": {},
   "outputs": [],
   "source": [
    "base_dir = Path(\"/Users/igari/OneDrive/Documents/thebrand\")\n",
    "data = base_dir / \"data\""
   ]
  },
  {
   "cell_type": "markdown",
   "metadata": {},
   "source": [
    "# A note on choice of models"
   ]
  },
  {
   "cell_type": "markdown",
   "metadata": {},
   "source": [
    "Model requirements:\n",
    "   - Should be able to detect interactions without coding for interaction features\n",
    "   - Should be able to handle new values of categorical features\n",
    "   - Should generalise well and be less prone to overfitting"
   ]
  },
  {
   "cell_type": "markdown",
   "metadata": {},
   "source": [
    "Decision trees are generally better at uncovering feature interactions without explicitly coding for them. Therefore, in interest of time, we will skip testing linear regression models but ideally, this should be done."
   ]
  },
  {
   "cell_type": "markdown",
   "metadata": {},
   "source": [
    "# Read in training data"
   ]
  },
  {
   "cell_type": "code",
   "execution_count": 36,
   "metadata": {},
   "outputs": [
    {
     "data": {
      "text/html": [
       "<div>\n",
       "<style scoped>\n",
       "    .dataframe tbody tr th:only-of-type {\n",
       "        vertical-align: middle;\n",
       "    }\n",
       "\n",
       "    .dataframe tbody tr th {\n",
       "        vertical-align: top;\n",
       "    }\n",
       "\n",
       "    .dataframe thead th {\n",
       "        text-align: right;\n",
       "    }\n",
       "</style>\n",
       "<table border=\"1\" class=\"dataframe\">\n",
       "  <thead>\n",
       "    <tr style=\"text-align: right;\">\n",
       "      <th></th>\n",
       "      <th>MATERIAL_CONTENT_CODE</th>\n",
       "      <th>PRODUCT_TYPES</th>\n",
       "      <th>BUSINESS_SEGMENTS</th>\n",
       "      <th>Sustainablity</th>\n",
       "      <th>MARKETING_CATEGORY</th>\n",
       "      <th>nrf_color_group</th>\n",
       "    </tr>\n",
       "  </thead>\n",
       "  <tbody>\n",
       "    <tr>\n",
       "      <th>0</th>\n",
       "      <td>75.83</td>\n",
       "      <td>76.79</td>\n",
       "      <td>77.01</td>\n",
       "      <td>1</td>\n",
       "      <td>76.50</td>\n",
       "      <td>1</td>\n",
       "    </tr>\n",
       "    <tr>\n",
       "      <th>1</th>\n",
       "      <td>74.53</td>\n",
       "      <td>72.17</td>\n",
       "      <td>74.08</td>\n",
       "      <td>1</td>\n",
       "      <td>76.33</td>\n",
       "      <td>1</td>\n",
       "    </tr>\n",
       "    <tr>\n",
       "      <th>2</th>\n",
       "      <td>74.53</td>\n",
       "      <td>75.37</td>\n",
       "      <td>74.50</td>\n",
       "      <td>2</td>\n",
       "      <td>76.56</td>\n",
       "      <td>2</td>\n",
       "    </tr>\n",
       "    <tr>\n",
       "      <th>3</th>\n",
       "      <td>74.57</td>\n",
       "      <td>74.88</td>\n",
       "      <td>75.86</td>\n",
       "      <td>3</td>\n",
       "      <td>95.39</td>\n",
       "      <td>3</td>\n",
       "    </tr>\n",
       "    <tr>\n",
       "      <th>4</th>\n",
       "      <td>64.82</td>\n",
       "      <td>66.97</td>\n",
       "      <td>73.71</td>\n",
       "      <td>4</td>\n",
       "      <td>49.92</td>\n",
       "      <td>1</td>\n",
       "    </tr>\n",
       "  </tbody>\n",
       "</table>\n",
       "</div>"
      ],
      "text/plain": [
       "   MATERIAL_CONTENT_CODE  PRODUCT_TYPES  BUSINESS_SEGMENTS  Sustainablity  \\\n",
       "0                  75.83          76.79              77.01              1   \n",
       "1                  74.53          72.17              74.08              1   \n",
       "2                  74.53          75.37              74.50              2   \n",
       "3                  74.57          74.88              75.86              3   \n",
       "4                  64.82          66.97              73.71              4   \n",
       "\n",
       "   MARKETING_CATEGORY  nrf_color_group  \n",
       "0               76.50                1  \n",
       "1               76.33                1  \n",
       "2               76.56                2  \n",
       "3               95.39                3  \n",
       "4               49.92                1  "
      ]
     },
     "execution_count": 36,
     "metadata": {},
     "output_type": "execute_result"
    }
   ],
   "source": [
    "train_path = data / \"01_raw\" / \"train_raw.csv\"\n",
    "train = pd.read_parquet(train_path)\n",
    "\n",
    "y_train = train.loc[:, [TARGET]]\n",
    "X_train = train.loc[:, MODEL_FEATURES]\n",
    "\n",
    "X_train.head()"
   ]
  },
  {
   "cell_type": "markdown",
   "metadata": {},
   "source": [
    "# Test data preprocessing"
   ]
  },
  {
   "cell_type": "code",
   "execution_count": 37,
   "metadata": {},
   "outputs": [
    {
     "data": {
      "text/plain": [
       "(12128, 7)"
      ]
     },
     "execution_count": 37,
     "metadata": {},
     "output_type": "execute_result"
    }
   ],
   "source": [
    "test_path = data / \"01_raw\" / \"test_raw.csv\"\n",
    "test = pd.read_parquet(test_path)\n",
    "test.shape"
   ]
  },
  {
   "cell_type": "code",
   "execution_count": 38,
   "metadata": {},
   "outputs": [
    {
     "data": {
      "text/html": [
       "<div>\n",
       "<style scoped>\n",
       "    .dataframe tbody tr th:only-of-type {\n",
       "        vertical-align: middle;\n",
       "    }\n",
       "\n",
       "    .dataframe tbody tr th {\n",
       "        vertical-align: top;\n",
       "    }\n",
       "\n",
       "    .dataframe thead th {\n",
       "        text-align: right;\n",
       "    }\n",
       "</style>\n",
       "<table border=\"1\" class=\"dataframe\">\n",
       "  <thead>\n",
       "    <tr style=\"text-align: right;\">\n",
       "      <th></th>\n",
       "      <th>MATERIAL_CONTENT_CODE</th>\n",
       "      <th>PRODUCT_TYPES</th>\n",
       "      <th>BUSINESS_SEGMENTS</th>\n",
       "      <th>NRF_COLOR_CODE</th>\n",
       "      <th>Sustainablity</th>\n",
       "      <th>MARKETING_CATEGORY</th>\n",
       "      <th>Units_sold</th>\n",
       "      <th>nrf_color_group</th>\n",
       "    </tr>\n",
       "  </thead>\n",
       "  <tbody>\n",
       "    <tr>\n",
       "      <th>7</th>\n",
       "      <td>74.23</td>\n",
       "      <td>74.37</td>\n",
       "      <td>74.55</td>\n",
       "      <td>1.00</td>\n",
       "      <td>1</td>\n",
       "      <td>99.51</td>\n",
       "      <td>36</td>\n",
       "      <td>1</td>\n",
       "    </tr>\n",
       "    <tr>\n",
       "      <th>8</th>\n",
       "      <td>73.66</td>\n",
       "      <td>74.83</td>\n",
       "      <td>74.68</td>\n",
       "      <td>610.00</td>\n",
       "      <td>9</td>\n",
       "      <td>70.91</td>\n",
       "      <td>120</td>\n",
       "      <td>12</td>\n",
       "    </tr>\n",
       "    <tr>\n",
       "      <th>9</th>\n",
       "      <td>74.53</td>\n",
       "      <td>73.47</td>\n",
       "      <td>72.68</td>\n",
       "      <td>610.00</td>\n",
       "      <td>2</td>\n",
       "      <td>100.52</td>\n",
       "      <td>120</td>\n",
       "      <td>12</td>\n",
       "    </tr>\n",
       "    <tr>\n",
       "      <th>10</th>\n",
       "      <td>62.85</td>\n",
       "      <td>74.37</td>\n",
       "      <td>74.55</td>\n",
       "      <td>307.00</td>\n",
       "      <td>10</td>\n",
       "      <td>50.93</td>\n",
       "      <td>96</td>\n",
       "      <td>11</td>\n",
       "    </tr>\n",
       "    <tr>\n",
       "      <th>11</th>\n",
       "      <td>77.33</td>\n",
       "      <td>75.54</td>\n",
       "      <td>73.71</td>\n",
       "      <td>1.00</td>\n",
       "      <td>9</td>\n",
       "      <td>70.91</td>\n",
       "      <td>108</td>\n",
       "      <td>1</td>\n",
       "    </tr>\n",
       "  </tbody>\n",
       "</table>\n",
       "</div>"
      ],
      "text/plain": [
       "    MATERIAL_CONTENT_CODE  PRODUCT_TYPES  BUSINESS_SEGMENTS  NRF_COLOR_CODE  \\\n",
       "7                   74.23          74.37              74.55            1.00   \n",
       "8                   73.66          74.83              74.68          610.00   \n",
       "9                   74.53          73.47              72.68          610.00   \n",
       "10                  62.85          74.37              74.55          307.00   \n",
       "11                  77.33          75.54              73.71            1.00   \n",
       "\n",
       "    Sustainablity  MARKETING_CATEGORY  Units_sold  nrf_color_group  \n",
       "7               1               99.51          36                1  \n",
       "8               9               70.91         120               12  \n",
       "9               2              100.52         120               12  \n",
       "10             10               50.93          96               11  \n",
       "11              9               70.91         108                1  "
      ]
     },
     "execution_count": 38,
     "metadata": {},
     "output_type": "execute_result"
    }
   ],
   "source": [
    "# Outlier removal at 216.0\n",
    "train = test[test.Units_sold < 216]\n",
    "\n",
    "# Feature nrf color group\n",
    "test[\"nrf_color_group\"] = test.apply(get_nrf_color_group, axis=1)\n",
    "\n",
    "# Categorical encoding\n",
    "oe_encoder_path = base_dir / \"artifacts\" / \"oe_encoder.pkl\"\n",
    "file = open(oe_encoder_path, \"rb\")\n",
    "oe_encoder = pickle.load(file)\n",
    "test = oe_encoder.fit_transform(test)\n",
    "\n",
    "encoder_path = base_dir / \"artifacts\" / \"encoder.pkl\"\n",
    "file2 = open(encoder_path, \"rb\")\n",
    "encoder = pickle.load(file2)\n",
    "test = encoder.transform(test)\n",
    "test.head()"
   ]
  },
  {
   "cell_type": "code",
   "execution_count": 39,
   "metadata": {},
   "outputs": [],
   "source": [
    "y_test = test.loc[:, [TARGET]]\n",
    "X_test = test.loc[:, MODEL_FEATURES]\n",
    "\n",
    "X_train.to_parquet(data / \"02_intermediate/X_train.csv\", index=None)\n",
    "X_test.to_parquet(data / \"02_intermediate/X_valid.csv\", index=None)\n",
    "y_train.to_parquet(data / \"02_intermediate/y_train.csv\", index=None)\n",
    "y_test.to_parquet(data / \"02_intermediate/y_valid.csv\", index=None)"
   ]
  },
  {
   "cell_type": "markdown",
   "metadata": {},
   "source": [
    "We will use evaluation metric: MAE"
   ]
  },
  {
   "cell_type": "markdown",
   "metadata": {},
   "source": [
    "### Comparing various algorithms"
   ]
  },
  {
   "cell_type": "markdown",
   "metadata": {},
   "source": [
    "Let us see whether bagging does better or boosting in this problem"
   ]
  },
  {
   "cell_type": "markdown",
   "metadata": {},
   "source": [
    "#### Random Forest"
   ]
  },
  {
   "cell_type": "code",
   "execution_count": 47,
   "metadata": {},
   "outputs": [
    {
     "name": "stderr",
     "output_type": "stream",
     "text": [
      "[Parallel(n_jobs=-1)]: Using backend ThreadingBackend with 12 concurrent workers.\n",
      "[Parallel(n_jobs=-1)]: Done  26 tasks      | elapsed:   54.1s\n"
     ]
    },
    {
     "name": "stdout",
     "output_type": "stream",
     "text": [
      "Training MAE: 30.68241352136043\n",
      "Test MAE: 39.301360488126655\n"
     ]
    },
    {
     "name": "stderr",
     "output_type": "stream",
     "text": [
      "[Parallel(n_jobs=-1)]: Done 100 out of 100 | elapsed:  3.0min finished\n",
      "[Parallel(n_jobs=12)]: Using backend ThreadingBackend with 12 concurrent workers.\n",
      "[Parallel(n_jobs=12)]: Done  26 tasks      | elapsed:    0.0s\n",
      "[Parallel(n_jobs=12)]: Done 100 out of 100 | elapsed:    0.0s finished\n",
      "[Parallel(n_jobs=12)]: Using backend ThreadingBackend with 12 concurrent workers.\n",
      "[Parallel(n_jobs=12)]: Done  26 tasks      | elapsed:    0.0s\n",
      "[Parallel(n_jobs=12)]: Done 100 out of 100 | elapsed:    0.0s finished\n"
     ]
    },
    {
     "data": {
      "text/plain": [
       "<AxesSubplot:>"
      ]
     },
     "execution_count": 47,
     "metadata": {},
     "output_type": "execute_result"
    },
    {
     "data": {
      "image/png": "[encoded data removed]",
      "text/plain": [
       "<Figure size 432x288 with 1 Axes>"
      ]
     },
     "metadata": {
      "needs_background": "light"
     },
     "output_type": "display_data"
    }
   ],
   "source": [
    "est_rf = RandomForestRegressor(\n",
    "    criterion=\"absolute_error\", max_depth=5, verbose=1, n_jobs=-1\n",
    ")\n",
    "\n",
    "est_rf.fit(\n",
    "    X_train.loc[:, MODEL_FEATURES],\n",
    "    np.array(y_train).reshape(\n",
    "        -1,\n",
    "    ),\n",
    ")\n",
    "\n",
    "rf_pred_train = est_rf.predict(X_train[MODEL_FEATURES])\n",
    "rf_pred_test = est_rf.predict(X_test[MODEL_FEATURES])\n",
    "\n",
    "print(f\"Training MAE: {mean_absolute_error(y_train, rf_pred_train)}\")\n",
    "print(f\"Test MAE: {mean_absolute_error(y_test, rf_pred_test)}\")\n",
    "\n",
    "sns.barplot(x=est_rf.feature_importances_, y=MODEL_FEATURES)"
   ]
  },
  {
   "cell_type": "code",
   "execution_count": 46,
   "metadata": {},
   "outputs": [
    {
     "name": "stdout",
     "output_type": "stream",
     "text": [
      "      Iter       Train Loss   Remaining Time \n",
      "         1          32.9619            4.39s\n",
      "         2          32.6469            4.47s\n",
      "         3          32.3624            4.74s\n",
      "         4          32.1023            4.28s\n",
      "         5          31.8749            4.61s\n",
      "         6          31.6879            4.35s\n",
      "         7          31.5295            4.37s\n",
      "         8          31.3979            4.32s\n",
      "         9          31.2866            4.18s\n",
      "        10          31.1843            4.24s\n",
      "        20          30.7027            3.77s\n",
      "        30          30.5597            3.33s\n",
      "        40          30.4934            2.83s\n",
      "        50          30.4463            2.37s\n",
      "        60          30.4125            1.89s\n",
      "        70          30.3739            1.44s\n",
      "        80          30.3523            0.96s\n",
      "        90          30.3393            0.48s\n",
      "       100          30.3323            0.00s\n",
      "Training MAE: 30.3323017807807\n",
      "Test MAE: 39.13310726765881\n"
     ]
    },
    {
     "data": {
      "text/plain": [
       "<AxesSubplot:>"
      ]
     },
     "execution_count": 46,
     "metadata": {},
     "output_type": "execute_result"
    },
    {
     "data": {
      "image/png": "[encoded data removed]",
      "text/plain": [
       "<Figure size 432x288 with 1 Axes>"
      ]
     },
     "metadata": {
      "needs_background": "light"
     },
     "output_type": "display_data"
    }
   ],
   "source": [
    "est_rf = GradientBoostingRegressor(max_depth=5, loss=\"absolute_error\", verbose=1)\n",
    "\n",
    "est_rf.fit(\n",
    "    X_train.loc[:, MODEL_FEATURES],\n",
    "    np.array(y_train).reshape(\n",
    "        -1,\n",
    "    ),\n",
    ")\n",
    "\n",
    "rf_pred_train = est_rf.predict(X_train[MODEL_FEATURES])\n",
    "rf_pred_test = est_rf.predict(X_test[MODEL_FEATURES])\n",
    "\n",
    "print(f\"Training MAE: {mean_absolute_error(y_train, rf_pred_train)}\")\n",
    "print(f\"Test MAE: {mean_absolute_error(y_test, rf_pred_test)}\")\n",
    "\n",
    "sns.barplot(x=est_rf.feature_importances_, y=MODEL_FEATURES)"
   ]
  },
  {
   "cell_type": "markdown",
   "metadata": {},
   "source": [
    "Both are giving comparable results so let us stick to boosting for now as it ran faster than bagging."
   ]
  },
  {
   "cell_type": "markdown",
   "metadata": {},
   "source": [
    "There is a huge scope to fix the categorical encoder here as all the weight is going to `MARKETING_CATEGORY` here which is not ideal."
   ]
  },
  {
   "cell_type": "code",
   "execution_count": 48,
   "metadata": {},
   "outputs": [
    {
     "name": "stdout",
     "output_type": "stream",
     "text": [
      "Training MAE: 0.8043986216299387\n",
      "Test MAE: 0.9398620362824168\n"
     ]
    }
   ],
   "source": [
    "print(f\"Training MAE: {mean_absolute_percentage_error(y_train, rf_pred_train)}\")\n",
    "print(f\"Test MAE: {mean_absolute_percentage_error(y_test, rf_pred_test)}\")"
   ]
  },
  {
   "cell_type": "markdown",
   "metadata": {},
   "source": [
    "The model requires further tuning and more predictors clearly. The MAPE is really bad.\n",
    "</br> Here are tuning ideas:"
   ]
  },
  {
   "cell_type": "markdown",
   "metadata": {},
   "source": [
    "#TODO: Tuning ideas"
   ]
  },
  {
   "cell_type": "code",
   "execution_count": null,
   "metadata": {},
   "outputs": [],
   "source": [
    "#TODO: Add requirements.txt"
   ]
  },
  {
   "cell_type": "markdown",
   "metadata": {},
   "source": [
    "#TODO: Slides"
   ]
  }
 ],
 "metadata": {
  "kernelspec": {
   "display_name": "Python 3 (ipykernel)",
   "language": "python",
   "name": "python3"
  },
  "language_info": {
   "codemirror_mode": {
    "name": "ipython",
    "version": 3
   },
   "file_extension": ".py",
   "mimetype": "text/x-python",
   "name": "python",
   "nbconvert_exporter": "python",
   "pygments_lexer": "ipython3",
   "version": "3.8.12"
  }
 },
 "nbformat": 4,
 "nbformat_minor": 4
}
